{
 "cells": [
  {
   "cell_type": "markdown",
   "metadata": {
    "id": "3IRf384SS_O0"
   },
   "source": [
    "string"
   ]
  },
  {
   "cell_type": "code",
   "execution_count": null,
   "metadata": {
    "colab": {
     "base_uri": "https://localhost:8080/"
    },
    "id": "QnqmN10zS0kz",
    "outputId": "9f02f43a-6ea0-4e5c-80f1-d1cb0b5a6495"
   },
   "outputs": [
    {
     "name": "stdout",
     "output_type": "stream",
     "text": [
      "Enter a word:ApplE\n",
      "apple\n"
     ]
    }
   ],
   "source": [
    "#task-1\n",
    "num=input('Enter a word:')\n",
    "var1=0\n",
    "var2=0\n",
    "for index in num:\n",
    "    if index.islower():\n",
    "        var1+=1\n",
    "    elif index.isupper():\n",
    "        var2+=1\n",
    "if var1<var2:\n",
    "    print(num.upper())\n",
    "else:\n",
    "    print(num.lower())\n"
   ]
  },
  {
   "cell_type": "code",
   "execution_count": null,
   "metadata": {
    "colab": {
     "base_uri": "https://localhost:8080/"
    },
    "id": "Bl12RKQ7Svo0",
    "outputId": "98748cc9-869d-44f3-fbb6-354ae8445f2e"
   },
   "outputs": [
    {
     "name": "stdout",
     "output_type": "stream",
     "text": [
      "Enter: hello\n",
      "WORD\n"
     ]
    }
   ],
   "source": [
    "#task-2\n",
    "num=(input(\"Enter: \")).lower()\n",
    "lttr=0\n",
    "digt=0\n",
    "for i in num:\n",
    "    if ord(i)>=97 and ord(i)<=122:\n",
    "        lttr=1\n",
    "    else:\n",
    "        digt=1\n",
    "if lttr==0:\n",
    "    print(\"NUMBER\")\n",
    "elif digt==0:\n",
    "    print(\"WORD\")\n",
    "elif lttr==1 and digt==1:\n",
    "    print(\"MIXED\")"
   ]
  },
  {
   "cell_type": "code",
   "execution_count": 1,
   "metadata": {
    "colab": {
     "base_uri": "https://localhost:8080/"
    },
    "id": "RLJk1ihLWlzU",
    "outputId": "46910a0f-f52c-4cc2-ae65-6b13ae155b94"
   },
   "outputs": [
    {
     "name": "stdout",
     "output_type": "stream",
     "text": [
      "Enter a string:baNgladEsh\n",
      "glad"
     ]
    }
   ],
   "source": [
    "#task-3\n",
    "num=input(\"Enter a string:\")\n",
    "var1=0\n",
    "var2=0\n",
    "for i in range(len(num)):   \n",
    "    if 'A'<= num[i]<='Z':\n",
    "        var1=i\n",
    "        break\n",
    "for i in range(len(num)-1,-1,-1):  \n",
    "    if 'A'<= num[i] <='Z':\n",
    "        var2=i\n",
    "        break\n",
    "for i in range(var1+1,var2,1):\n",
    "    print(num[i],end='')\n",
    "if var1+1==var2:\n",
    "    print(\"BLANK\")"
   ]
  },
  {
   "cell_type": "code",
   "execution_count": null,
   "metadata": {
    "colab": {
     "base_uri": "https://localhost:8080/"
    },
    "id": "bWLI8zMJXYi4",
    "outputId": "f5ebe43e-08d0-401e-b6de-a80243aaefe5"
   },
   "outputs": [
    {
     "name": "stdout",
     "output_type": "stream",
     "text": [
      "Enter the string: this is not too good book!\n",
      "this is not excellent book!\n"
     ]
    }
   ],
   "source": [
    "#task-4\n",
    "n=input(\"Enter the string: \")\n",
    "if \"too good\" in n:\n",
    "    x=n.replace(\"too good\",\"excellent\")\n",
    "    print(x)\n",
    "else :\n",
    "    print(n)"
   ]
  },
  {
   "cell_type": "code",
   "execution_count": 10,
   "metadata": {},
   "outputs": [
    {
     "name": "stdout",
     "output_type": "stream",
     "text": [
      "Enter a string: this book is not too good!\n",
      "this book is not excellent!\n"
     ]
    }
   ],
   "source": [
    "#task-4 #code without using replace function\n",
    "num=input(\"Enter a string: \")\n",
    "newstrng=\"\"\n",
    "num1=\"too good\"\n",
    "var1=True\n",
    "for i in range(len(num)):\n",
    "    if num[i]=='t':\n",
    "        k=i\n",
    "        var2=True\n",
    "    for j in num1:\n",
    "        if num[k]==j:\n",
    "            k+=1\n",
    "        else:\n",
    "            var2=False\n",
    "            break\n",
    "    if var2:\n",
    "        var1=False\n",
    "        newstrng=num[:i]+\"excellent\"+num[k:]\n",
    "        print(newstrng)\n",
    "        break\n",
    "if var1:\n",
    "    print(num)"
   ]
  },
  {
   "cell_type": "code",
   "execution_count": null,
   "metadata": {
    "colab": {
     "base_uri": "https://localhost:8080/"
    },
    "id": "1J_tg108XqAU",
    "outputId": "f820bd08-7b38-4488-9b5c-016be96dbe7c"
   },
   "outputs": [
    {
     "name": "stdout",
     "output_type": "stream",
     "text": [
      "Enter 1st string:dean\n",
      "Enter 2nd string:tom\n",
      "Nothing in common\n"
     ]
    }
   ],
   "source": [
    "#task-5\n",
    "num1=input(\"Enter 1st string:\")\n",
    "num2=input(\"Enter 2nd string:\")\n",
    "new=\"\"\n",
    "for i in num1:\n",
    "    if i in num2:\n",
    "        new+=i\n",
    "for i in num2:\n",
    "    if i in num1:\n",
    "        new+=i\n",
    "if len(new)<1:\n",
    "    print(\"Nothing in common\")\n",
    "else:\n",
    "    print(new)"
   ]
  },
  {
   "cell_type": "code",
   "execution_count": null,
   "metadata": {
    "colab": {
     "base_uri": "https://localhost:8080/"
    },
    "id": "ZORKqHkiXsqC",
    "outputId": "6305d2d0-498c-47ee-b40b-955ad4052852"
   },
   "outputs": [
    {
     "name": "stdout",
     "output_type": "stream",
     "text": [
      "Enter password:myBRAc\n",
      "digit missing,special character missing\n"
     ]
    }
   ],
   "source": [
    "#task-6\n",
    "list3 = ['_','$','#','@']\n",
    "num=input(\"Enter password:\")\n",
    "count=0\n",
    "lwr=0\n",
    "uppr=0\n",
    "dgt=0\n",
    "spcl_case=0\n",
    "for i in num:\n",
    "    if i>='a' and i<='z':\n",
    "        lwr+=1\n",
    "    elif i>='A' and i<=\"Z\":\n",
    "        uppr+=1\n",
    "    elif i in list3:\n",
    "        spcl_case+=1\n",
    "    elif int(i)>=0 and int(i)<=9:\n",
    "        dgt+=1  \n",
    "if lwr<1:\n",
    "    print('lower character missing',end=',')\n",
    "if uppr<1:\n",
    "    print('upper character missing',end=',')\n",
    "if dgt<1:\n",
    "    print('digit missing',end=',')\n",
    "if spcl_case<1:\n",
    "    print('special character missing')\n",
    "if lwr>=1 and uppr>=1 and dgt>=1 and spcl_case>=1:\n",
    "    print('OK')"
   ]
  },
  {
   "cell_type": "markdown",
   "metadata": {
    "id": "PfE_tVTImVso"
   },
   "source": [
    "List\n"
   ]
  },
  {
   "cell_type": "code",
   "execution_count": null,
   "metadata": {
    "colab": {
     "base_uri": "https://localhost:8080/"
    },
    "id": "OD9cnUt_mYm0",
    "outputId": "6135ba69-c689-4c7c-9c0f-7fbbac7d2c7b"
   },
   "outputs": [
    {
     "name": "stdout",
     "output_type": "stream",
     "text": [
      "Enter: 10\n",
      "Enter: 20\n",
      "Enter: 20\n",
      "Enter: 30\n",
      "Enter: 50\n",
      "Enter: 90\n",
      "Enter: 10\n",
      "Enter: stop\n",
      "10 - 2 times\n",
      "20 - 2 times\n",
      "30 - 1 times\n",
      "50 - 1 times\n",
      "90 - 1 times\n"
     ]
    }
   ],
   "source": [
    "#task-1\n",
    "num=1\n",
    "list1=[]\n",
    "list2=[]\n",
    "while num==1:\n",
    "    var1=(input(\"Enter: \")).upper()\n",
    "    if var1!=\"STOP\":\n",
    "        list1.append(int(var1))\n",
    "    if var1==\"STOP\":\n",
    "        num+=1\n",
    "    if var1!=\"STOP\":\n",
    "        if int(var1) not in list2:\n",
    "            list2.append(int(var1))\n",
    "for i in list2:\n",
    "    x=list1.count(i)\n",
    "    print(i,\"-\",x,\"times\")"
   ]
  },
  {
   "cell_type": "code",
   "execution_count": null,
   "metadata": {
    "colab": {
     "base_uri": "https://localhost:8080/"
    },
    "id": "YsQlx-O_mb6N",
    "outputId": "1f7e955d-d372-4a69-8d66-aa168bfea923"
   },
   "outputs": [
    {
     "name": "stdout",
     "output_type": "stream",
     "text": [
      "Enter input number:4\n",
      "1 2 3\n",
      "4 5 6\n",
      "10 11 12\n",
      "7 8 9\n",
      "33\n",
      "[10, 11, 12]\n"
     ]
    }
   ],
   "source": [
    "#task-2\n",
    "num=int(input(\"Enter input number:\"))\n",
    "list1=[]\n",
    "summ=[]\n",
    "for i in range(num):\n",
    "    num=list(map(int, input().split()))\n",
    "    list1.append(num)\n",
    "    x=0\n",
    "    for index in num:\n",
    "        x+=index\n",
    "    summ.append(x)\n",
    "    maxi = summ[0]\n",
    "    index=0\n",
    "    for i in range (len(summ)-1):\n",
    "        if summ[i+1]>maxi:\n",
    "            maxi=summ[i+1]\n",
    "            index=i+1\n",
    "print(maxi)\n",
    "print(list1[index])\n"
   ]
  },
  {
   "cell_type": "code",
   "execution_count": 5,
   "metadata": {
    "colab": {
     "base_uri": "https://localhost:8080/"
    },
    "id": "SIQk8Pt7mdws",
    "outputId": "b719a64b-2bb1-439d-afdb-d59992494163"
   },
   "outputs": [
    {
     "name": "stdout",
     "output_type": "stream",
     "text": [
      "Enter 1st list: 2 3 6\n",
      "Enter 2nd list: 3 4 5\n",
      "[6, 8, 10, 9, 12, 15, 18, 24, 30]\n"
     ]
    }
   ],
   "source": [
    "#task-3\n",
    "num= [int(item) for item in input(\"Enter 1st list: \").split()]\n",
    "m= [int(item) for item in input(\"Enter 2nd list: \").split()]\n",
    "num2=[]\n",
    "for i in num:\n",
    "    x=[]\n",
    "    for j in m:\n",
    "        n=i*j\n",
    "        x.append(n)\n",
    "    num2.extend(x)\n",
    "print(num2)"
   ]
  },
  {
   "cell_type": "code",
   "execution_count": 2,
   "metadata": {
    "colab": {
     "base_uri": "https://localhost:8080/"
    },
    "id": "okAeRYfGmfe7",
    "outputId": "2c03c519-8b42-4c84-a87f-ef6fc71cf5a0"
   },
   "outputs": [
    {
     "name": "stdout",
     "output_type": "stream",
     "text": [
      "enter number:1 4 2 3\n",
      "enter number:2 1 4 6 10\n",
      "enter number:1 4 2 -1 6\n",
      "enter number:stop\n",
      "UB JUMPER\n",
      "UB JUMPER\n",
      "Not UB Jumper\n"
     ]
    }
   ],
   "source": [
    "#task-4\n",
    "list1=[]\n",
    "while True:\n",
    "    n=input('enter number:').lower()\n",
    "    if n=='stop':\n",
    "        break\n",
    "    else:\n",
    "        list1.append(n)\n",
    "for n in list1:\n",
    "    n=n.split()\n",
    "    for i in range(len(n)):\n",
    "        n[i]=int(n[i])\n",
    "    dif=[]\n",
    "    for i in range(len(n)-1):\n",
    "        dif.append(abs(n[i+1]-n[i]))\n",
    "    for i in range(len(n)):\n",
    "        var1=(len(n))\n",
    "        flag=True\n",
    "        for i in range(1,var1,1): \n",
    "            if i in dif:\n",
    "                pass\n",
    "            else:\n",
    "                flag=False\n",
    "    if flag:\n",
    "        print(\"UB JUMPER\")\n",
    "    else:\n",
    "        print(\"Not UB Jumper\")"
   ]
  },
  {
   "cell_type": "code",
   "execution_count": 3,
   "metadata": {
    "colab": {
     "base_uri": "https://localhost:8080/"
    },
    "id": "Ej9ON9lSmh4t",
    "outputId": "b1ce512b-9282-4e9f-bafb-5fb2c9bf2814"
   },
   "outputs": [
    {
     "name": "stdout",
     "output_type": "stream",
     "text": [
      "Enter:Bracu1234\n",
      "acruB1324"
     ]
    }
   ],
   "source": [
    "#task-5\n",
    "lst=input(\"Enter:\")\n",
    "lwr=[]\n",
    "upp=[]\n",
    "dig=[]\n",
    "for i in lst:\n",
    "    if i>='a' and i <=\"z\":\n",
    "        lwr.append(ord(i))\n",
    "    elif i>='A' and i<=\"z\":\n",
    "        upp.append(ord(i))\n",
    "    else:\n",
    "        dig.append(int(i))\n",
    "for i in range(len(lwr)-1):\n",
    "    for j in range(len(lwr)-i-1):\n",
    "        if (lwr[j])> (lwr[j+1]):\n",
    "            num=(lwr[j])\n",
    "            (lwr[j])=(lwr[j+1])\n",
    "            (lwr[j+1])=num\n",
    "upp.sort()\n",
    "dig.sort()\n",
    "output=''\n",
    "for i in lwr:\n",
    "    output+=(chr(i))\n",
    "for i in upp:\n",
    "    output+=(chr(i))\n",
    "print(output,end='')\n",
    "for i in dig:\n",
    "    if i%2!=0:\n",
    "        print(i,end='')\n",
    "for i in dig:\n",
    "    if i%2==0:\n",
    "        print(i,end='')"
   ]
  },
  {
   "cell_type": "code",
   "execution_count": null,
   "metadata": {
    "colab": {
     "base_uri": "https://localhost:8080/"
    },
    "id": "ELmrmFKAmlEV",
    "outputId": "bb8d425b-ccdf-40ee-e7a4-db5ec3150090"
   },
   "outputs": [
    {
     "name": "stdout",
     "output_type": "stream",
     "text": [
      "Enter:5 2\n",
      "Enter played game: 0 4 5 1 0\n",
      "1\n"
     ]
    }
   ],
   "source": [
    "#task-6\n",
    "membr=input('Enter:').split()\n",
    "game=input(\"Enter played game: \").split()\n",
    "if int(membr[0])!=len(game):\n",
    "    print('Input Error')\n",
    "else:\n",
    "    count=0\n",
    "    for i in game:\n",
    "        if int(membr[1])+int(i)<= 5:\n",
    "            count+=1\n",
    "    final=count//3\n",
    "    print(final)"
   ]
  },
  {
   "cell_type": "markdown",
   "metadata": {
    "id": "UkEKTMnwp_bY"
   },
   "source": [
    "dictionary"
   ]
  },
  {
   "cell_type": "code",
   "execution_count": null,
   "metadata": {
    "colab": {
     "base_uri": "https://localhost:8080/"
    },
    "id": "CQnJ9sKbqFza",
    "outputId": "1227f4cd-9002-47ca-eb1f-681ed90d3f0f"
   },
   "outputs": [
    {
     "name": "stdout",
     "output_type": "stream",
     "text": [
      "Enter dictionary: a:100,b:200,c:300,d:400\n",
      "a:100,b:100,c:100\n",
      "{'a': 200, 'b': 300, 'c': 400, 'd': 400}\n",
      "values : (200, 300, 400, 400)\n"
     ]
    }
   ],
   "source": [
    "#task-1\n",
    "num=input(\"Enter 1st dictionary: \").split(\",\")\n",
    "dict1={}\n",
    "for i in num:\n",
    "    x=i.split(\":\")\n",
    "    dict1[(x[0])]=(int(x[1]))\n",
    "num2=input(\"Enter 2nd dictionary: \").split(\",\")\n",
    "dict2={}\n",
    "for i in num2:\n",
    "    x=i.split(\":\")\n",
    "    dict2[(x[0])]=(int(x[1]))\n",
    "for key,value in dict1.items():\n",
    "    if key in dict2:\n",
    "        dict2[key]+=value\n",
    "    else:\n",
    "        dict2[key]=value\n",
    "list1=list(dict2.values())\n",
    "list1.sort()\n",
    "print(dict2)\n",
    "print(\"values\",\":\",tuple(list1))"
   ]
  },
  {
   "cell_type": "code",
   "execution_count": null,
   "metadata": {
    "colab": {
     "base_uri": "https://localhost:8080/"
    },
    "id": "2mtymBPdrDSb",
    "outputId": "0b0e1ac4-390d-458e-d435-4724e3392fe4"
   },
   "outputs": [
    {
     "name": "stdout",
     "output_type": "stream",
     "text": [
      "10\n",
      "20\n",
      "30\n",
      "10\n",
      "20\n",
      "50\n",
      "90\n",
      "stop\n",
      "10 - 2 times\n",
      "20 - 2 times\n",
      "30 - 1 times\n",
      "50 - 1 times\n",
      "90 - 1 times\n"
     ]
    }
   ],
   "source": [
    "#task-2\n",
    "dict={}\n",
    "while True:\n",
    "    num=input(\"Enter:\").upper()\n",
    "    if num=='STOP':\n",
    "        break\n",
    "    else:             \n",
    "        if num in dict:\n",
    "            dict[num]+=1\n",
    "        else:     \n",
    "            dict[num]=1\n",
    "for key,value in dict.items():    \n",
    "    print(key,'-',value,'times')   "
   ]
  },
  {
   "cell_type": "code",
   "execution_count": 13,
   "metadata": {
    "colab": {
     "base_uri": "https://localhost:8080/"
    },
    "id": "7mFFS5iv0zQT",
    "outputId": "ae35cec0-caf1-45cd-bdd5-aab1cb218335"
   },
   "outputs": [
    {
     "name": "stdout",
     "output_type": "stream",
     "text": [
      "Enter:key1:value1,key2:value2,key3:value1\n",
      "{'value1': ['key1', 'key3'], 'value2': ['key2']}\n"
     ]
    }
   ],
   "source": [
    "#task-3\n",
    "num=input(\"Enter:\").split(\",\")\n",
    "dict1={}\n",
    "for i in num:\n",
    "    x=i.split(\":\")\n",
    "    dict1[(x[0])]=(x[1])\n",
    "dict2={}\n",
    "for x,y in dict1.items():\n",
    "    if y in dict2:\n",
    "        dict2[y].append(x)\n",
    "    else:\n",
    "        dict2[y]=[x]\n",
    "print(dict2)\n"
   ]
  },
  {
   "cell_type": "code",
   "execution_count": null,
   "metadata": {
    "colab": {
     "base_uri": "https://localhost:8080/"
    },
    "id": "BPXRLWFa01-k",
    "outputId": "af31018a-33da-4efa-a159-2627504aaf99"
   },
   "outputs": [
    {
     "name": "stdout",
     "output_type": "stream",
     "text": [
      "Enter 1st string: dean\n",
      "Enter 2nd string: tom\n",
      "Not Anagram\n"
     ]
    }
   ],
   "source": [
    "#task-4\n",
    "var1=input(\"Enter 1st string: \")\n",
    "var2=[]\n",
    "var3=input(\"Enter 2nd string: \")\n",
    "var_a=[]\n",
    "dict1={}\n",
    "dict2={}\n",
    "for x in var1:\n",
    "    var2.append(x)\n",
    "for y in var3:\n",
    "    var_a.append(y)\n",
    "for i in var2:\n",
    "    if i not in dict1:\n",
    "        dict1[i]=1       \n",
    "if len(var2)==len(var_a):\n",
    "    for a in dict1:\n",
    "        if a in var_a:\n",
    "            dict2[a]=1\n",
    "    c=False\n",
    "    for i,j in dict1.items():\n",
    "        for k,l in dict2.items():\n",
    "            if dict1==dict2:\n",
    "                c=True                \n",
    "    if c==True:\n",
    "        print('Anangram')\n",
    "    else:\n",
    "        print('Not Anagram')\n",
    "else:\n",
    "    print('Not Anagram')        "
   ]
  },
  {
   "cell_type": "code",
   "execution_count": null,
   "metadata": {
    "colab": {
     "base_uri": "https://localhost:8080/"
    },
    "id": "KKUftxVk04gg",
    "outputId": "c7893bf1-df13-4827-d2a8-0c09bd15496a"
   },
   "outputs": [
    {
     "name": "stdout",
     "output_type": "stream",
     "text": [
      "Enter a string: Hello,World!\n",
      "443355555566611966677755531111\n"
     ]
    }
   ],
   "source": [
    "#task-5\n",
    "dict = {\"1\":[\".\", \",\", \"?\", \"!\", ':'],\"2\":[\"A\", \"B\", \"C\"],\"3\":[\"D\", \"E\", \"F\"],\n",
    "        \"4\":[\"G\", 'H', 'I'],\"5\":['J', 'K', 'L'],\n",
    "        \"6\":['M', 'N', 'O'],\"7\":['P', 'Q', 'R', 'S'],\"8\":['T', 'U', 'V'],\n",
    "        \"9\":['W', 'X', 'Y', 'Z'],\"0\":[' ']}\n",
    "num=input(\"Enter a string: \").upper()\n",
    "var1=''\n",
    "for index in num:\n",
    "    for i,j in dict.items():\n",
    "        for b in range(len(j)):\n",
    "            if index==j[b]:\n",
    "                var1+=i*(b+1)\n",
    "print(var1)                  "
   ]
  }
 ],
 "metadata": {
  "colab": {
   "collapsed_sections": [],
   "name": "assigment01_21101030_SadiaAnjumFarea.ipynb",
   "provenance": []
  },
  "kernelspec": {
   "display_name": "Python 3",
   "language": "python",
   "name": "python3"
  },
  "language_info": {
   "codemirror_mode": {
    "name": "ipython",
    "version": 3
   },
   "file_extension": ".py",
   "mimetype": "text/x-python",
   "name": "python",
   "nbconvert_exporter": "python",
   "pygments_lexer": "ipython3",
   "version": "3.8.5"
  }
 },
 "nbformat": 4,
 "nbformat_minor": 1
}
