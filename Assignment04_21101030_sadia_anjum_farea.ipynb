{
 "cells": [
  {
   "cell_type": "code",
   "execution_count": 1,
   "metadata": {
    "colab": {
     "base_uri": "https://localhost:8080/"
    },
    "id": "wxN6na252U5d",
    "outputId": "cbde22c2-85b4-4c94-80de-41adf0fd9a4e"
   },
   "outputs": [
    {
     "name": "stdout",
     "output_type": "stream",
     "text": [
      "Enter value1:8\n",
      "Enter operator:-\n",
      "Enter value2:5\n",
      "Let's calculate!\n",
      "value1: 8\n",
      "Operator -\n",
      "value2: 5\n",
      "Result: 3\n"
     ]
    }
   ],
   "source": [
    "#task-1\n",
    "class calculator:\n",
    "  def __init__(self,valu1,operator,valu2):\n",
    "    print(\"Let's calculate!\")\n",
    "    self.valu1=valu1\n",
    "    self.operator=operator\n",
    "    self.valu2=valu2\n",
    "    print(\"value1:\",self.valu1)\n",
    "    print(\"Operator\",self.operator)\n",
    "    print(\"value2:\",self.valu2)\n",
    "  def add(self):\n",
    "    num=self.valu1+self.valu2\n",
    "    print('Result:',num)\n",
    "  def sub(self):\n",
    "    num=self.valu1-self.valu2\n",
    "    print('Result:',num)\n",
    "  def multi(self):\n",
    "    num=self.valu1*self.valu2\n",
    "    print('Result:',num)\n",
    "  def devide(self):\n",
    "    num=self.valu1/self.valu2\n",
    "    print('Result:',num)\n",
    "var1=int(input(\"Enter value1:\"))\n",
    "var2=(input(\"Enter operator:\"))\n",
    "var3=int(input(\"Enter value2:\"))\n",
    "call=calculator(var1,var2,var3)\n",
    "if var2==\"+\":\n",
    "  call.add()\n",
    "elif var2==\"-\":\n",
    "  call.sub()\n",
    "elif var2==\"*\":\n",
    "  call.multi()\n",
    "else:\n",
    "  call.devide()"
   ]
  },
  {
   "cell_type": "code",
   "execution_count": 2,
   "metadata": {
    "colab": {
     "base_uri": "https://localhost:8080/"
    },
    "id": "G7e50DsCBHY_",
    "outputId": "a5e83f28-de5c-4036-fb3f-0a15d1807980"
   },
   "outputs": [
    {
     "name": "stdout",
     "output_type": "stream",
     "text": [
      "Hello!\n",
      "Sam , you purchased 3 item(s):\n",
      "chips\n",
      "chocolate\n",
      "orange juice\n",
      "-----------------------------\n",
      "Hello David!\n",
      "David , you purchased 1 item(s):\n",
      "orange juice\n"
     ]
    }
   ],
   "source": [
    "#task-2\n",
    "class Customer:\n",
    "  def __init__(self,name):\n",
    "    self.name=name\n",
    "  def greet(self,name=None):\n",
    "        if name==None:\n",
    "            print('Hello!')\n",
    "        else:\n",
    "            print('Hello',name+'!')\n",
    "  def purchase(self,*things):\n",
    "    print(self.name,',','you purchased',len(things),'item(s):')\n",
    "    for i in range(len(things)):\n",
    "      print(things[i],end=\"\\n\")\n",
    "customer_1 = Customer(\"Sam\")\n",
    "customer_1.greet()\n",
    "customer_1.purchase(\"chips\", \"chocolate\", \"orange juice\")\n",
    "print(\"-----------------------------\")\n",
    "customer_2 = Customer(\"David\")\n",
    "customer_2.greet(\"David\")\n",
    "customer_2.purchase(\"orange juice\")\n"
   ]
  },
  {
   "cell_type": "code",
   "execution_count": 3,
   "metadata": {
    "colab": {
     "base_uri": "https://localhost:8080/"
    },
    "id": "9sgbgb63GC7_",
    "outputId": "052c6281-ce38-4b66-ff8d-83e02cca00e7"
   },
   "outputs": [
    {
     "name": "stdout",
     "output_type": "stream",
     "text": [
      "Kunfu is a Male Panda Bear who is 5 years old\n",
      "Pan Pan is a Female Panda Bear who is 3 years old\n",
      "Ming Ming is a Female Panda Bear who is 8 years old\n",
      "===========================\n",
      "Pan Pan sleeps 10 hours daily and should have Broccoli Chicken.\n",
      "Kunfu sleeps 4 hours daily and should have Mixed Veggies.\n",
      "Ming Ming's duration is unknown thus should have only bamboo leaves.\n"
     ]
    }
   ],
   "source": [
    "#task-3\n",
    "class Panda:\n",
    "  def __init__(self,name,gender,age):\n",
    "    self.name=name\n",
    "    self.gender=gender\n",
    "    self.age=age\n",
    "  def sleep(self,duration=\"\"):\n",
    "    self.duration=duration\n",
    "    if self.duration!='':\n",
    "      if 3<=self.duration<=5:\n",
    "        return f\"{self.name} sleeps {self.duration} hours daily and should have Mixed Veggies.\"\n",
    "      elif 6<=self.duration<=8:\n",
    "        return f\"{self.name} sleeps {self.duration} hours daily and should have Eggplant and Tofu.\"\n",
    "      elif 9<=self.duration<=11:    \n",
    "        return f\"{self.name} sleeps {self.duration} hours daily and should have Broccoli Chicken.\"       \n",
    "    else:\n",
    "      return f\"{self.name}'s duration is unknown thus should have only bamboo leaves.\"\n",
    "    \n",
    "panda1 = Panda(\"Kunfu\",\"Male\", 5)\n",
    "panda2=Panda(\"Pan Pan\",\"Female\",3)\n",
    "panda3=Panda(\"Ming Ming\",\"Female\",8)\n",
    "print(\"{} is a {} Panda Bear who is {} years old\".format(panda1.name,panda1.gender,panda1.age))\n",
    "print(\"{} is a {} Panda Bear who is {} years old\".format(panda2.name,panda2.gender,panda2.age))\n",
    "print(\"{} is a {} Panda Bear who is {} years old\".format(panda3.name,panda3.gender,panda3.age))\n",
    "print(\"===========================\")\n",
    "print(panda2.sleep(10))\n",
    "print(panda1.sleep(4))\n",
    "print(panda3.sleep())"
   ]
  },
  {
   "cell_type": "code",
   "execution_count": 4,
   "metadata": {
    "colab": {
     "base_uri": "https://localhost:8080/"
    },
    "id": "7mOFNEKdJHQI",
    "outputId": "34cf7939-8774-4261-9876-9b591d128177"
   },
   "outputs": [
    {
     "name": "stdout",
     "output_type": "stream",
     "text": [
      "White cat is sitting\n",
      "Black cat is sitting\n",
      "Brown cat is jumping\n",
      "Red cat is purring\n",
      "Blue cat is sitting\n",
      "Purple cat is jumping\n"
     ]
    }
   ],
   "source": [
    "#task-4\n",
    "class Cat:\n",
    "    def __init__(self,clr='White',act='sitting'):\n",
    "        self.clr=clr\n",
    "        self.act=act\n",
    "    def printCat(self):\n",
    "        print(self.clr,'cat is',self.act)\n",
    "    def changeColor(self,col):\n",
    "        self.clr=col\n",
    "        \n",
    "c1 = Cat()\n",
    "c2 = Cat(\"Black\")\n",
    "c3 = Cat(\"Brown\", \"jumping\")\n",
    "c4 = Cat(\"Red\", \"purring\")\n",
    "c1.printCat()\n",
    "c2.printCat()\n",
    "c3.printCat()\n",
    "c4.printCat()\n",
    "c1.changeColor(\"Blue\")\n",
    "c3.changeColor(\"Purple\")\n",
    "c1.printCat()\n",
    "c3.printCat() "
   ]
  },
  {
   "cell_type": "code",
   "execution_count": 5,
   "metadata": {
    "colab": {
     "base_uri": "https://localhost:8080/"
    },
    "id": "bXlB01G9R5WY",
    "outputId": "520f0705-7bc7-4687-91ba-55bbb3a6d094"
   },
   "outputs": [
    {
     "name": "stdout",
     "output_type": "stream",
     "text": [
      "--------------------------------\n",
      "Hello default student\n",
      "Your average score is 3.3333333333333335\n",
      "--------------------------------\n",
      "Hello Harry\n",
      "Your average score is 6.0\n",
      "--------------------------------\n",
      "Hello Hermione\n",
      "Your average score is 9.666666666666666\n"
     ]
    }
   ],
   "source": [
    "#task-5\n",
    "class Student:\n",
    "  def __init__(self,stdnt=\"default student\"):\n",
    "    self.stdnt=stdnt\n",
    "\n",
    "  def quizcalc(self,*marks):\n",
    "    num=0\n",
    "    for i in marks:\n",
    "      num+=i\n",
    "    self.avrg=num/3\n",
    "  def printdetail(self):\n",
    "    print('Hello',self.stdnt)\n",
    "    print('Your average score is', self.avrg )\n",
    "s1 = Student()\n",
    "s1.quizcalc(10)\n",
    "print('--------------------------------')\n",
    "s1.printdetail()\n",
    "s2 = Student('Harry')\n",
    "s2.quizcalc(10,8)\n",
    "print('--------------------------------')\n",
    "s2.printdetail()\n",
    "s3 = Student('Hermione')\n",
    "s3.quizcalc(10,9,10)\n",
    "print('--------------------------------')\n",
    "s3.printdetail()"
   ]
  },
  {
   "cell_type": "code",
   "execution_count": 6,
   "metadata": {
    "colab": {
     "base_uri": "https://localhost:8080/"
    },
    "id": "hipampAjWYq5",
    "outputId": "358a8ae7-73e2-4baf-cc79-c58ab7a29c9b"
   },
   "outputs": [
    {
     "name": "stdout",
     "output_type": "stream",
     "text": [
      "(0, 0)\n",
      "(0, 1)\n",
      "(-1, 1)\n",
      "(-1, 0)\n"
     ]
    }
   ],
   "source": [
    "#task-6\n",
    "class Vehicle:\n",
    "    def __init__(self):\n",
    "        self.x=0\n",
    "        self.y=0  \n",
    "    def print_position(self):\n",
    "        tupl=(self.x,self.y)\n",
    "        print(tupl)\n",
    "    def moveUp(self):\n",
    "        self.y+=1\n",
    "    def moveLeft(self):\n",
    "        self.x-=1\n",
    "    def moveDown(self):\n",
    "        self.y-=1\n",
    "    def moveRight(self):\n",
    "        self.x+=1\n",
    "car = Vehicle()\n",
    "car.print_position()\n",
    "car.moveUp()\n",
    "car.print_position()\n",
    "car.moveLeft()\n",
    "car.print_position()\n",
    "car.moveDown()\n",
    "car.print_position()\n",
    "car.moveRight()"
   ]
  },
  {
   "cell_type": "code",
   "execution_count": 7,
   "metadata": {
    "colab": {
     "base_uri": "https://localhost:8080/"
    },
    "id": "CmFl1qY6ZLn6",
    "outputId": "f119a91b-08c6-41b8-d761-b8e5bd898aa9"
   },
   "outputs": [
    {
     "name": "stdout",
     "output_type": "stream",
     "text": [
      "Horray! A new programmer is born\n",
      "Name: Ethen Hunt\n",
      "Language: Java\n",
      "Experience: 10 years\n",
      "--------------------------\n",
      "Horray! A new programmer is born\n",
      "Name: James Bond\n",
      "Language: C++\n",
      "Experience: 7 years\n",
      "--------------------------\n",
      "Horray! A new programmer is born\n",
      "Name: Jon Snow\n",
      "Language: Python\n",
      "Experience: 4 years\n",
      "Updating experience of Jon Snow\n",
      "Name: Jon Snow\n",
      "Language: Python\n",
      "Experience: 9 years\n"
     ]
    }
   ],
   "source": [
    "#task-7\n",
    "class Programmer:\n",
    "  def __init__(self,name,lngg,xp):\n",
    "    self.name=name\n",
    "    self.lng= lngg\n",
    "    self.xp=xp\n",
    "    print(\"Horray! A new programmer is born\")\n",
    "  def printDetails(self):\n",
    "    print(\"Name:\",self.name)\n",
    "    print(\"Language:\",self.lng)\n",
    "    print(\"Experience:\",self.xp,\"years\")\n",
    "  def addExp(self,addno):\n",
    "    self.xp+=addno\n",
    "    print(\"Updating experience of\",self.name)\n",
    "p1 = Programmer(\"Ethen Hunt\", \"Java\", 10)\n",
    "p1.printDetails()\n",
    "print('--------------------------')\n",
    "p2 = Programmer(\"James Bond\", \"C++\", 7)\n",
    "p2.printDetails()\n",
    "print('--------------------------')\n",
    "p3 = Programmer(\"Jon Snow\", \"Python\", 4)\n",
    "p3.printDetails()\n",
    "p3.addExp(5)\n",
    "p3.printDetails()"
   ]
  },
  {
   "cell_type": "code",
   "execution_count": 8,
   "metadata": {
    "colab": {
     "base_uri": "https://localhost:8080/"
    },
    "id": "p_aBK_rFf8dR",
    "outputId": "5524c4db-3399-470d-a512-d45103ddda95"
   },
   "outputs": [
    {
     "name": "stdout",
     "output_type": "stream",
     "text": [
      "Name: Harry Potter\n",
      "Id: 123\n",
      "Department: CSE\n",
      "Daily Effort: 3 hour(s)\n",
      "Suggestion: Keep up the good work!\n",
      "========================\n",
      "Name: John Wick\n",
      "Id: 456\n",
      "Department: BBA\n",
      "Daily Effort: 2 hour(s)\n",
      "Suggestion: Should give more effort!\n",
      "========================\n",
      "Name: Naruto Uzumaki\n",
      "Id: 777\n",
      "Department: Ninja\n",
      "Daily Effort: 6 hour(s)\n",
      "Suggestion: Excellent! Now motivate others.\n"
     ]
    }
   ],
   "source": [
    "#task-8\n",
    "class Student:\n",
    "  def __init__(self,name,id,dept=\"CSE\"):\n",
    "    self.name=name\n",
    "    self.id=id\n",
    "    self.dept=dept\n",
    "  def dailyEffort(self,time):\n",
    "    self.time=time\n",
    "  def printDetails(self):\n",
    "    print(\"Name:\",self.name)\n",
    "    print(\"Id:\",self.id)\n",
    "    print(\"Department:\",self.dept)\n",
    "    print(\"Daily Effort:\",self.time,\"hour(s)\")\n",
    "    if self.time<= 2 :\n",
    "      print('Suggestion: Should give more effort!')\n",
    "    elif self.time <= 4:\n",
    "      print('Suggestion: Keep up the good work!')\n",
    "    else:\n",
    "      print(\"Suggestion: Excellent! Now motivate others.\")\n",
    "harry = Student('Harry Potter', 123)\n",
    "harry.dailyEffort(3)\n",
    "harry.printDetails()\n",
    "print('========================')\n",
    "john = Student(\"John Wick\", 456, \"BBA\")\n",
    "john.dailyEffort(2)\n",
    "john.printDetails()\n",
    "print('========================')\n",
    "naruto = Student(\"Naruto Uzumaki\", 777, \"Ninja\")\n",
    "naruto.dailyEffort(6)\n",
    "naruto.printDetails()"
   ]
  },
  {
   "cell_type": "code",
   "execution_count": 9,
   "metadata": {
    "colab": {
     "base_uri": "https://localhost:8080/"
    },
    "id": "lV68xCKIjqI3",
    "outputId": "dbecaa0e-5b2d-49b2-a01b-99579a4bcefc"
   },
   "outputs": [
    {
     "name": "stdout",
     "output_type": "stream",
     "text": [
      "=========================\n",
      "Name: Thomas\n",
      "Age: 23\n",
      "Symptoms: Headache\n",
      "=========================\n",
      "Name: Carol\n",
      "Age: 20\n",
      "Symptoms: Vomiting, Coughing\n",
      "=========================\n",
      "Name: Mike\n",
      "Age: 25\n",
      "Symptoms: Fever, Headache, Coughing\n",
      "=========================\n"
     ]
    }
   ],
   "source": [
    "#task-9\n",
    "class Patient:\n",
    "    def __init__(self,nam,age):\n",
    "        self.names=nam\n",
    "        self.ages=age\n",
    "    def add_Symptom(self,*syms):\n",
    "        self.strn=''\n",
    "        for i in syms:\n",
    "            self.strn+=i+', '\n",
    "    def printPatientDetail(self):\n",
    "        print('Name:',self.names)\n",
    "        print('Age:',self.ages)\n",
    "        print('Symptoms:',self.strn[:-2:])\n",
    "\n",
    "p1 = Patient(\"Thomas\", 23)\n",
    "p1.add_Symptom(\"Headache\")\n",
    "p2 = Patient(\"Carol\", 20)\n",
    "p2.add_Symptom(\"Vomiting\", \"Coughing\")\n",
    "p3 = Patient(\"Mike\", 25)\n",
    "p3.add_Symptom(\"Fever\", \"Headache\", \"Coughing\")\n",
    "print(\"=========================\")\n",
    "p1.printPatientDetail()\n",
    "print(\"=========================\")\n",
    "p2.printPatientDetail()\n",
    "print(\"=========================\")\n",
    "p3.printPatientDetail()\n",
    "print(\"=========================\")"
   ]
  },
  {
   "cell_type": "code",
   "execution_count": 10,
   "metadata": {
    "colab": {
     "base_uri": "https://localhost:8080/"
    },
    "id": "SDkBnMH15CXu",
    "outputId": "93ebac0a-c224-44f2-930b-a5c2222ffa30"
   },
   "outputs": [
    {
     "name": "stdout",
     "output_type": "stream",
     "text": [
      "=========================\n",
      "Name: Captain America\n",
      "Partner: Bucky Barnes\n",
      "Super powers: Stamina, Slowed ageing\n",
      "=========================\n",
      "Name: Doctor Strange\n",
      "Partner: Ancient One\n",
      "Super powers: Mastery of magic\n",
      "=========================\n",
      "Name: Iron Man\n",
      "Partner: War Machine\n",
      "Super powers: Genius level intellect, Scientist \n",
      "=========================\n"
     ]
    }
   ],
   "source": [
    "#task-10\n",
    "class Avengers:\n",
    "    def __init__(self,name,prtnr):\n",
    "        self.nam=name\n",
    "        self.prtnr=prtnr\n",
    "    def super_powers(self,*pwr):\n",
    "        self.pwr=''\n",
    "        for z in pwr:\n",
    "            self.pwr+=z+', '     \n",
    "    def printAvengersDetail(self):\n",
    "        print('Name:',self.nam)\n",
    "        print('Partner:',self.prtnr)\n",
    "        print('Super powers:',self.pwr[:-2])\n",
    "        \n",
    "a1 = Avengers('Captain America', 'Bucky Barnes')\n",
    "a1.super_powers('Stamina', 'Slowed ageing')\n",
    "a2 = Avengers('Doctor Strange', 'Ancient One')\n",
    "a2.super_powers('Mastery of magic')\n",
    "a3 = Avengers('Iron Man', 'War Machine')\n",
    "a3.super_powers('Genius level intellect', 'Scientist ')\n",
    "print(\"=========================\")\n",
    "a1.printAvengersDetail()\n",
    "print(\"=========================\")\n",
    "a2.printAvengersDetail()\n",
    "print(\"=========================\")\n",
    "a3.printAvengersDetail()\n",
    "print(\"=========================\")"
   ]
  },
  {
   "cell_type": "code",
   "execution_count": 11,
   "metadata": {
    "colab": {
     "base_uri": "https://localhost:8080/"
    },
    "id": "dPT1sflb6X4x",
    "outputId": "67a23999-275c-46a0-bef3-e5c1a65bfc06"
   },
   "outputs": [
    {
     "name": "stdout",
     "output_type": "stream",
     "text": [
      "Name: Naruto\n",
      "Rank: Genin\n",
      "Number of missions: 5\n",
      "Salary: 250\n",
      "====================\n",
      "Name: Shikamaru\n",
      "Rank: Genin\n",
      "Number of missions: 0\n",
      "Salary: 0\n",
      "Name: Shikamaru\n",
      "Rank: Chunin\n",
      "Number of missions: 10\n",
      "Salary: 1000\n",
      "====================\n",
      "Name: Neiji\n",
      "Rank: Jonin\n",
      "Number of missions: 5\n",
      "Salary: 2500\n"
     ]
    }
   ],
   "source": [
    "#task-11\n",
    "class Shinobi:\n",
    "    def __init__(self,nin,rnk,sal=0,miss=0):\n",
    "        self.ninja=nin\n",
    "        self.rank=rnk\n",
    "        self.sal=sal\n",
    "        self.miss=miss\n",
    "        self.tot=0\n",
    "    def changeRank(self,c_rnk):\n",
    "        self.rank=c_rnk\n",
    "    def calSalary(self,up_miss):\n",
    "        self.miss=up_miss\n",
    "        if self.rank=='Genin':\n",
    "            self.tot=up_miss*50\n",
    "        elif self.rank=='Chunin':\n",
    "            self.tot=up_miss*100\n",
    "        else:\n",
    "            self.tot=up_miss*500\n",
    "    def printInfo(self):\n",
    "        print('Name:',self.ninja)\n",
    "        print('Rank:',self.rank)\n",
    "        print('Number of missions:',self.miss)\n",
    "        print('Salary:',self.tot)\n",
    "\n",
    "naruto = Shinobi(\"Naruto\", \"Genin\")\n",
    "naruto.calSalary(5)\n",
    "naruto.printInfo()\n",
    "print('====================')\n",
    "shikamaru = Shinobi('Shikamaru', \"Genin\")\n",
    "shikamaru.printInfo()\n",
    "shikamaru.changeRank(\"Chunin\")\n",
    "shikamaru.calSalary(10)\n",
    "shikamaru.printInfo()\n",
    "print('====================')\n",
    "neiji = Shinobi(\"Neiji\", \"Jonin\")\n",
    "neiji.calSalary(5)\n",
    "neiji.printInfo()"
   ]
  },
  {
   "cell_type": "code",
   "execution_count": 12,
   "metadata": {
    "colab": {
     "base_uri": "https://localhost:8080/"
    },
    "id": "Z0zvqpU0BZvs",
    "outputId": "b8b42f39-b7c7-48a7-a17e-62586916a809"
   },
   "outputs": [
    {
     "name": "stdout",
     "output_type": "stream",
     "text": [
      "**********************\n",
      "Customer Name: No name set\n",
      "Product Weight: 0\n",
      "Total fee: 0\n",
      "**********************\n",
      "Customer Name: Bob The Builder\n",
      "Product Weight: 0\n",
      "Total fee: 0\n",
      "----------------------------\n",
      "Customer Name: Bob The Builder\n",
      "Product Weight: 15\n",
      "Total fee: 350\n",
      "**********************\n",
      "Customer Name: Dora The Explorer\n",
      "Product Weight: 10\n",
      "Total fee: 300\n"
     ]
    }
   ],
   "source": [
    "#task-12\n",
    "class ParcelKoro:\n",
    "  def __init__(self,name=\"No name set\",product_weight=0):\n",
    "    self.name=name\n",
    "    self.product_weight= product_weight\n",
    "  def calculateFee(self,loctn=None):\n",
    "    if self.product_weight==0:\n",
    "      self.total=0\n",
    "    else:\n",
    "      if loctn==None:\n",
    "        self.total=(self.product_weight*20)+50\n",
    "      else:\n",
    "        self.total=(self.product_weight*20)+100\n",
    "  def printDetails(self):\n",
    "    print('Customer Name:',self.name)\n",
    "    print('Product Weight:',self.product_weight)\n",
    "    print('Total fee:',self.total)\n",
    "\n",
    "print(\"**********************\")\n",
    "p1 = ParcelKoro()\n",
    "p1.calculateFee()\n",
    "p1.printDetails()\n",
    "print(\"**********************\")\n",
    "p2 = ParcelKoro('Bob The Builder')\n",
    "p2.calculateFee()\n",
    "p2.printDetails()\n",
    "print(\"----------------------------\")\n",
    "p2.product_weight = 15\n",
    "p2.calculateFee()\n",
    "p2.printDetails()\n",
    "print(\"**********************\")\n",
    "p3 = ParcelKoro('Dora The Explorer', 10)\n",
    "p3.calculateFee('Dhanmondi')\n",
    "p3.printDetails()"
   ]
  },
  {
   "cell_type": "code",
   "execution_count": 13,
   "metadata": {
    "colab": {
     "base_uri": "https://localhost:8080/"
    },
    "id": "0kzm0loZL2Mu",
    "outputId": "fd384ea7-ba95-4cfe-dce3-ea982e6096d3"
   },
   "outputs": [
    {
     "name": "stdout",
     "output_type": "stream",
     "text": [
      "Name: New Batsman\n",
      "Runs Scored: 6101 , Balls Faced: 7380\n",
      "============================\n",
      "Name: Liton Das\n",
      "Runs Scored: 678 , Balls Faced: 773\n",
      "----------------------------\n",
      "87.71021992238033\n",
      "============================\n",
      "Name: Shakib Al Hasan\n",
      "Runs Scored: 6101 , Balls Faced: 7380\n",
      "----------------------------\n",
      "82.66937669376694\n"
     ]
    }
   ],
   "source": [
    "#task-13\n",
    "class Batsman:\n",
    "  def __init__(self,*faced_runs):\n",
    "    if len(faced_runs)==2:\n",
    "      self.name='New Batsman'\n",
    "      self.run=faced_runs[0]\n",
    "      self.strike=faced_runs[1]\n",
    "    else:\n",
    "      self.name=faced_runs[0]\n",
    "      self.run=faced_runs[1]\n",
    "      self.strike=faced_runs[2] \n",
    "  def battingStrikeRate(self):\n",
    "    ans=self.run/self.strike*100\n",
    "    return ans \n",
    "  def setName(self,n_name):\n",
    "    self.name=n_name\n",
    "  def printCareerStatistics(self):\n",
    "    print(\"Name:\",self.name)\n",
    "    print(f'Runs Scored: {self.run} , Balls Faced: {self.strike}')\n",
    "    \n",
    "b1 = Batsman(6101, 7380)\n",
    "b1.printCareerStatistics()\n",
    "print(\"============================\")\n",
    "b2 = Batsman(\"Liton Das\", 678, 773)\n",
    "b2.printCareerStatistics()\n",
    "print(\"----------------------------\")\n",
    "print(b2.battingStrikeRate())\n",
    "print(\"============================\")\n",
    "b1.setName(\"Shakib Al Hasan\")\n",
    "b1.printCareerStatistics()\n",
    "print(\"----------------------------\")\n",
    "print(b1.battingStrikeRate())"
   ]
  },
  {
   "cell_type": "code",
   "execution_count": 14,
   "metadata": {
    "colab": {
     "base_uri": "https://localhost:8080/"
    },
    "id": "z18fHI_JPFXX",
    "outputId": "2f9de4f9-0d48-46c1-f70d-7f1c5216a93c"
   },
   "outputs": [
    {
     "name": "stdout",
     "output_type": "stream",
     "text": [
      "===================\n",
      "Name: Manchester United\n",
      "Song: Glory Glory Man United\n",
      "Total No of title: 0\n",
      "##################\n",
      "Name: Manchester United\n",
      "Song: Glory Glory Man United\n",
      "Total No of title: 1\n",
      "===================\n",
      "Name: Chelsea\n",
      "Song: No Slogan\n",
      "Total No of title: 0\n",
      "Name: Chelsea\n",
      "Song: Keep the blue flag flying high\n",
      "Total No of title: 0\n"
     ]
    }
   ],
   "source": [
    "#task-14\n",
    "class EPL_Team:\n",
    "  def __init__(self,name,Slogan='No Slogan'):\n",
    "    self.name=name\n",
    "    self.Slogan=Slogan\n",
    "    self.titel=0\n",
    "  def showClubInfo(self):\n",
    "    return f'Name: {self.name}\\nSong: {self.Slogan}\\nTotal No of title: {self.titel}'\n",
    "  def increaseTitle(self):\n",
    "    self.titel+=1\n",
    "  def changeSong(self,new_Slogan):\n",
    "    self.Slogan=new_Slogan\n",
    "    \n",
    "manu = EPL_Team('Manchester United', 'Glory Glory Man United') \n",
    "chelsea = EPL_Team('Chelsea') \n",
    "print('===================') \n",
    "print(manu.showClubInfo())\n",
    "print('##################') \n",
    "manu.increaseTitle() \n",
    "print(manu.showClubInfo()) \n",
    "print('===================') \n",
    "print(chelsea.showClubInfo()) \n",
    "chelsea.changeSong('Keep the blue flag flying high') \n",
    "print(chelsea.showClubInfo())"
   ]
  },
  {
   "cell_type": "code",
   "execution_count": 15,
   "metadata": {
    "colab": {
     "base_uri": "https://localhost:8080/"
    },
    "id": "fBNCEbN3PNSp",
    "outputId": "ada5e1d8-6a83-4f45-94bc-817a51c31b3b"
   },
   "outputs": [
    {
     "name": "stdout",
     "output_type": "stream",
     "text": [
      "Default Account\n",
      "0.0\n",
      "------------------------\n",
      "Oliver\n",
      "10000.0\n",
      "------------------------\n",
      "Liam\n",
      "0.0\n",
      "------------------------\n",
      "Noah\n",
      "400\n",
      "------------------------\n",
      "Sorry, Withdraw unsuccessful! The account balance after deducting withdraw amount is equal to or less than minimum.\n",
      "------------------------\n",
      "Sorry, Withdraw unsuccessful! The account balance after deducting withdraw amount is equal to or less than minimum.\n",
      "------------------------\n",
      "Withdraw successful! New balance is: 3071.0\n"
     ]
    }
   ],
   "source": [
    "#task-15\n",
    "class Account:\n",
    "  def __init__(self,name='Default Account',taka=0.0):\n",
    "    self.name=name\n",
    "    self.balance=taka\n",
    "  def withdraw(self,withdraw=0):\n",
    "    new_balance=self.balance - withdraw\n",
    "    if new_balance>3070:\n",
    "      print('Withdraw successful! New balance is:', new_balance)\n",
    "    else:\n",
    "      print('Sorry, Withdraw unsuccessful! The account balance after deducting withdraw amount is equal to or less than minimum.')\n",
    "  def details(self):\n",
    "    return f\"{self.name}\\n{self.balance}\"\n",
    "a1 = Account()\n",
    "print(a1.details())\n",
    "print(\"------------------------\")\n",
    "a1.name = \"Oliver\"\n",
    "a1.balance = 10000.0\n",
    "print(a1.details())\n",
    "print(\"------------------------\")\n",
    "a2 = Account(\"Liam\")\n",
    "print(a2.details())\n",
    "print(\"------------------------\")\n",
    "a3 = Account(\"Noah\",400)\n",
    "print(a3.details())\n",
    "print(\"------------------------\")\n",
    "a1.withdraw(6930);\n",
    "print(\"------------------------\")\n",
    "a2.withdraw(600);\n",
    "print(\"------------------------\")\n",
    "a1.withdraw(6929)"
   ]
  },
  {
   "cell_type": "code",
   "execution_count": 16,
   "metadata": {
    "colab": {
     "base_uri": "https://localhost:8080/"
    },
    "id": "oWKKSVi4PTVQ",
    "outputId": "295b5ec5-9465-4b72-d489-ef49fd42bf50"
   },
   "outputs": [
    {
     "name": "stdout",
     "output_type": "stream",
     "text": [
      "Author Name: Humayun Ahmed\n",
      "--------\n",
      "List of Books:\n",
      "Deyal\n",
      "Megher Opor Bari\n",
      "===================\n",
      "Default\n",
      "===================\n",
      "Author Name: Mario Puzo\n",
      "--------\n",
      "List of Books:\n",
      "The Godfather\n",
      "Omerta\n",
      "The Sicilian\n",
      "===================\n",
      "Author Name: Paolo Coelho\n",
      "--------\n",
      "List of Books:\n",
      "The Alchemist\n",
      "The Fifth Mountain\n"
     ]
    }
   ],
   "source": [
    "#task-16\n",
    "class Author:\n",
    "  def __init__(self,author='Default',*lis):\n",
    "    self.name=author\n",
    "    self.f_lis='List of Books:\\n'\n",
    "    if lis==():\n",
    "      pass\n",
    "    else:\n",
    "      for i in range(len(lis)):\n",
    "        if i==len(lis)-1:\n",
    "          self.f_lis+=lis[i]\n",
    "        else:\n",
    "          self.f_lis+=lis[i]+\"\\n\"\n",
    "  def addBooks(self,*books):\n",
    "    for i in range(len(books)):\n",
    "        if i==len(books)-1:\n",
    "          self.f_lis+=books[i]\n",
    "        else:\n",
    "          self.f_lis+=books[i]+\"\\n\"\n",
    "  def changeName(self,new_author):\n",
    "    self.name=new_author\n",
    "  def printDetails(self):\n",
    "    print('Author Name:',self.name)\n",
    "    print('--------')\n",
    "    print(self.f_lis)\n",
    "\n",
    "auth1 = Author('Humayun Ahmed')\n",
    "auth1.addBooks('Deyal', 'Megher Opor Bari')\n",
    "auth1.printDetails()\n",
    "print('===================')\n",
    "auth2 = Author()\n",
    "print(auth2.name)\n",
    "auth2.changeName('Mario Puzo')\n",
    "auth2.addBooks('The Godfather', 'Omerta', 'The Sicilian')\n",
    "print('===================')\n",
    "auth2.printDetails()\n",
    "print('===================')\n",
    "auth3 = Author('Paolo Coelho', 'The Alchemist', 'The Fifth Mountain')\n",
    "auth3.printDetails()"
   ]
  },
  {
   "cell_type": "code",
   "execution_count": null,
   "metadata": {},
   "outputs": [],
   "source": []
  }
 ],
 "metadata": {
  "colab": {
   "collapsed_sections": [],
   "name": "Assignment04_21101030_sadia_anjum_farea.ipynb",
   "provenance": []
  },
  "kernelspec": {
   "display_name": "Python 3",
   "language": "python",
   "name": "python3"
  },
  "language_info": {
   "codemirror_mode": {
    "name": "ipython",
    "version": 3
   },
   "file_extension": ".py",
   "mimetype": "text/x-python",
   "name": "python",
   "nbconvert_exporter": "python",
   "pygments_lexer": "ipython3",
   "version": "3.8.5"
  }
 },
 "nbformat": 4,
 "nbformat_minor": 1
}
