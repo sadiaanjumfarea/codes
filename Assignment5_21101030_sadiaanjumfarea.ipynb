{
  "nbformat": 4,
  "nbformat_minor": 0,
  "metadata": {
    "colab": {
      "name": "Assignment5_21101030.ipynb",
      "provenance": []
    },
    "kernelspec": {
      "name": "python3",
      "display_name": "Python 3"
    },
    "language_info": {
      "name": "python"
    }
  },
  "cells": [
    {
      "cell_type": "markdown",
      "metadata": {
        "id": "u00JC4_sJj1X"
      },
      "source": [
        ""
      ]
    },
    {
      "cell_type": "code",
      "metadata": {
        "id": "cmn8yWAD77C6",
        "colab": {
          "base_uri": "https://localhost:8080/"
        },
        "outputId": "9c2d368f-5407-4681-c0fa-e65733605b78"
      },
      "source": [
        "#Task-1\n",
        "class Marks:\n",
        "  def __init__(self,mark):\n",
        "    self.mark=mark\n",
        "  def __add__(self,other):\n",
        "    a= self.mark+ other.mark\n",
        "    return Marks(a)\n",
        "\n",
        "Q1 = Marks(int(input(\"Quiz 1 (out of 10): \")))\n",
        "Q2 = Marks(int(input(\"Quiz 2 (out of 10): \")))\n",
        "Lab = Marks(int(input(\"Lab (out of 30): \")))\n",
        "Mid = Marks(int(input(\"Mid (out of 20): \")))\n",
        "Final = Marks(int(input(\"Final (out of 30): \")))\n",
        "total = Q1 + Q2 + Lab + Mid + Final\n",
        "print(\"Total marks: {}\".format(total.mark))"
      ],
      "execution_count": null,
      "outputs": [
        {
          "output_type": "stream",
          "text": [
            "Quiz 1 (out of 10): 10\n",
            "Quiz 2 (out of 10): 8\n",
            "Lab (out of 30): 30\n",
            "Mid (out of 20): 20\n",
            "Final (out of 30): 29\n",
            "Total marks: 97\n"
          ],
          "name": "stdout"
        }
      ]
    },
    {
      "cell_type": "code",
      "metadata": {
        "id": "mPRTj7a2JpLe",
        "colab": {
          "base_uri": "https://localhost:8080/"
        },
        "outputId": "e7d94a4a-6e79-456f-867b-16442f198b27"
      },
      "source": [
        "#Task-2\n",
        "class Teacher:\n",
        "  def __init__(self,var1,var2):\n",
        "    self.__var1=var1\n",
        "    self.__var2=var2\n",
        "    self.__p=[]\n",
        "\n",
        "  def addCourse(self,now):\n",
        "    self.__p.append(now.bull)\n",
        "\n",
        "  def printDetail(self):\n",
        "    print(\"====================================\")\n",
        "    print(\"Name:\", self.__var1)\n",
        "    print(\"Department:\" ,self.__var2)\n",
        "    print(\"List of courses\")\n",
        "    print(\"====================================\")\n",
        "    for i in self.__p:\n",
        "      print(i)\n",
        "    print(\"====================================\")\n",
        "\n",
        "class Course:\n",
        "  def __init__(self,bull):\n",
        "    self.bull=bull\n",
        "\n",
        "t1 = Teacher(\"Saad Abdullah\", \"CSE\")\n",
        "t2 = Teacher(\"Mumit Khan\", \"CSE\")\n",
        "t3 = Teacher(\"Sadia Kazi\", \"CSE\")\n",
        "c1 = Course(\"CSE 110 Programming Language I\")\n",
        "c2 = Course(\"CSE 111 Programming Language-II\")\n",
        "c3 = Course(\"CSE 220 Data Structures\")\n",
        "c4 = Course(\"CSE 221 Algorithms\")\n",
        "c5 = Course(\"CCSE 230 Discrete Mathematics\")\n",
        "c6 = Course(\"CSE 310 Object Oriented Programming\")\n",
        "c7 = Course(\"CSE 320 Data Communications\")\n",
        "c8 = Course(\"CSE 340 Computer Architecture\")\n",
        "t1.addCourse(c1)\n",
        "t1.addCourse(c2)\n",
        "t2.addCourse(c3)\n",
        "t2.addCourse(c4)\n",
        "t2.addCourse(c5)\n",
        "t3.addCourse(c6)\n",
        "t3.addCourse(c7)\n",
        "t3.addCourse(c8)\n",
        "t1.printDetail()\n",
        "t2.printDetail()\n",
        "t3.printDetail()"
      ],
      "execution_count": null,
      "outputs": [
        {
          "output_type": "stream",
          "text": [
            "====================================\n",
            "Name: Saad Abdullah\n",
            "Department: CSE\n",
            "List of courses\n",
            "====================================\n",
            "CSE 110 Programming Language I\n",
            "CSE 111 Programming Language-II\n",
            "====================================\n",
            "====================================\n",
            "Name: Mumit Khan\n",
            "Department: CSE\n",
            "List of courses\n",
            "====================================\n",
            "CSE 220 Data Structures\n",
            "CSE 221 Algorithms\n",
            "CCSE 230 Discrete Mathematics\n",
            "====================================\n",
            "====================================\n",
            "Name: Sadia Kazi\n",
            "Department: CSE\n",
            "List of courses\n",
            "====================================\n",
            "CSE 310 Object Oriented Programming\n",
            "CSE 320 Data Communications\n",
            "CSE 340 Computer Architecture\n",
            "====================================\n"
          ],
          "name": "stdout"
        }
      ]
    },
    {
      "cell_type": "code",
      "metadata": {
        "id": "OTlzCazlJ_mG",
        "colab": {
          "base_uri": "https://localhost:8080/"
        },
        "outputId": "092cedb2-5af1-4af5-8dc4-e5b4d557e1c5"
      },
      "source": [
        "#task-3\n",
        "class Team:\n",
        "  def __init__(self,x=\"no\"):\n",
        "    self.__x=x\n",
        "    self.__li=[]\n",
        "  def setName(self,b):\n",
        "    if self.__x==\"no\":\n",
        "      self.__x=b\n",
        "\n",
        "  def addPlayer(self,m):\n",
        "    self.__li.append(m.var1)\n",
        "\n",
        "  def printDetail(self):\n",
        "    print('=====================')\n",
        "    print(\"Team: \",self.__x)\n",
        "    print(\"List of players: \")\n",
        "    print(self.__li)\n",
        "    print('=====================')\n",
        "\n",
        "class Player:\n",
        "  def __init__(self,var1):\n",
        "    self.var1=var1\n",
        "\n",
        "\n",
        "b = Team()\n",
        "b.setName('Bangladesh')\n",
        "mashrafi = Player(\"Mashrafi\")\n",
        "b.addPlayer(mashrafi)\n",
        "tamim = Player(\"Tamim\")\n",
        "b.addPlayer(tamim)\n",
        "b.printDetail()\n",
        "a = Team(\"Australia\")\n",
        "ponting = Player(\"Ponting\")\n",
        "a.addPlayer(ponting)\n",
        "lee = Player(\"Lee\")\n",
        "a.addPlayer(lee)\n",
        "a.printDetail()"
      ],
      "execution_count": null,
      "outputs": [
        {
          "output_type": "stream",
          "text": [
            "=====================\n",
            "Team:  Bangladesh\n",
            "List of players: \n",
            "['Mashrafi', 'Tamim']\n",
            "=====================\n",
            "=====================\n",
            "Team:  Australia\n",
            "List of players: \n",
            "['Ponting', 'Lee']\n",
            "=====================\n"
          ],
          "name": "stdout"
        }
      ]
    },
    {
      "cell_type": "code",
      "metadata": {
        "colab": {
          "base_uri": "https://localhost:8080/"
        },
        "id": "ZxxkU78BKFLA",
        "outputId": "58837e68-a9f2-4c81-b616-437268bc6f99"
      },
      "source": [
        "#task-4\n",
        "class Color:\n",
        "  def __init__(self,clr):\n",
        "    self.clr=clr\n",
        "  def __add__(self,other):\n",
        "    self.clr=self.clr+other.clr\n",
        "    \n",
        "    if self.clr==\"redyellow\" or self.clr==\"yellowred\":\n",
        "      self.clr=\"Orange\"\n",
        "    elif self.clr==\"redblue\" or self.clr==\"bluered\":\n",
        "      self.clr='Violet'\n",
        "    elif self.clr==\"yellowblue\" or self.clr==\"blueyellow\":\n",
        "      self.clr=\"Green\"\n",
        "    return Color(self.clr)\n",
        "\n",
        "C1 = Color(input(\"First Color: \").lower())\n",
        "C2 = Color(input(\"Second Color: \").lower())\n",
        "C3 = C1 + C2\n",
        "print(\"Color formed:\", C3.clr)"
      ],
      "execution_count": null,
      "outputs": [
        {
          "output_type": "stream",
          "text": [
            "First Color: blue\n",
            "Second Color: YELLOW\n",
            "Color formed: Green\n"
          ],
          "name": "stdout"
        }
      ]
    },
    {
      "cell_type": "code",
      "metadata": {
        "colab": {
          "base_uri": "https://localhost:8080/"
        },
        "id": "XHWDnOkLLZ-J",
        "outputId": "04860a54-1b28-48dd-8698-ccd309bb2bd3"
      },
      "source": [
        "#task-5\n",
        "import math\n",
        "class Circle:\n",
        "  def __init__(self,r=None):\n",
        "    self.r=r\n",
        "  \n",
        "  def getRadius(self):\n",
        "    return self.r\n",
        "\n",
        "  def setRadius(self,idc):\n",
        "    self.r=idc\n",
        "    return self.r\n",
        "\n",
        "  def area(self):\n",
        "    self.area=(math.pi)*self.r*self.r\n",
        "    return self.area\n",
        "\n",
        "  def __add__(self,other):\n",
        "    return Circle(self.r+ other.r)\n",
        "\n",
        "c1 = Circle(4)\n",
        "print(\"First circle radius:\" , c1.getRadius())\n",
        "print(\"First circle area:\" ,c1.area())\n",
        "c2 = Circle(5)\n",
        "print(\"Second circle radius:\" ,c2.getRadius())\n",
        "print(\"Second circle area:\" ,c2.area())\n",
        "c3 = c1 + c2\n",
        "print(\"Third circle radius:\" ,c3.getRadius())\n",
        "print(\"Third circle area:\" ,c3.area())"
      ],
      "execution_count": null,
      "outputs": [
        {
          "output_type": "stream",
          "text": [
            "First circle radius: 4\n",
            "First circle area: 50.26548245743669\n",
            "Second circle radius: 5\n",
            "Second circle area: 78.53981633974483\n",
            "Third circle radius: 9\n",
            "Third circle area: 254.46900494077323\n"
          ],
          "name": "stdout"
        }
      ]
    },
    {
      "cell_type": "code",
      "metadata": {
        "colab": {
          "base_uri": "https://localhost:8080/"
        },
        "id": "s07BAlGrLnMW",
        "outputId": "771cbbb1-bafc-44b2-a952-11ebbc0a3026"
      },
      "source": [
        "#task-6\n",
        "class Triangle:\n",
        "  def __init__(self,base=None,hgt=None):\n",
        "    self.__b=base\n",
        "    self.__h=hgt\n",
        "  def getBase(self):\n",
        "    return self.__b\n",
        "  def setBase(self,idk):\n",
        "    self.__b=idk\n",
        "    return self.__b\n",
        "\n",
        "  def getHeight(self):\n",
        "    return self.__h\n",
        "    \n",
        "  def setHeight(self,idk2):\n",
        "    self.__h=idk2\n",
        "    return self.__h\n",
        "\n",
        "  def area(self):\n",
        "    self.a=0.5*self.__b*self.__h\n",
        "    return self.a\n",
        "\n",
        "  def __sub__(self,other):\n",
        "    self.newb= self.__b-other.__b\n",
        "    self.newh=self.__h-other.__h \n",
        "    return Triangle(self.newb,self.newh)\n",
        "\n",
        "\n",
        "t1 = Triangle(10, 5)\n",
        "print(\"First Triangle Base:\" , t1.getBase())\n",
        "print(\"First Triangle Height:\" , t1.getHeight())\n",
        "print(\"First Triangle area:\" ,t1.area())\n",
        "\n",
        "t2 = Triangle(5, 3)\n",
        "print(\"Second Triangle Base:\" , t2.getBase())\n",
        "print(\"Second Triangle Height:\" , t2.getHeight())\n",
        "print(\"Second Triangle area:\" ,t2.area())\n",
        "t3 = t1 - t2\n",
        "print(\"Third Triangle Base:\" , t3.getBase())\n",
        "print(\"Third Triangle Height:\" , t3.getHeight())\n",
        "print(\"Third Triangle area:\" ,t3.area())"
      ],
      "execution_count": null,
      "outputs": [
        {
          "output_type": "stream",
          "text": [
            "First Triangle Base: 10\n",
            "First Triangle Height: 5\n",
            "First Triangle area: 25.0\n",
            "Second Triangle Base: 5\n",
            "Second Triangle Height: 3\n",
            "Second Triangle area: 7.5\n",
            "Third Triangle Base: 5\n",
            "Third Triangle Height: 2\n",
            "Third Triangle area: 5.0\n"
          ],
          "name": "stdout"
        }
      ]
    },
    {
      "cell_type": "code",
      "metadata": {
        "colab": {
          "base_uri": "https://localhost:8080/"
        },
        "id": "5wmU0GqRLudq",
        "outputId": "024ca198-7c89-49e5-c0df-fd4630d42eb7"
      },
      "source": [
        "#task-7\n",
        "class Dolls:\n",
        "  def __init__(self,nam,mny):\n",
        "    self.nam=nam\n",
        "    self.mny=mny\n",
        "  def detail(self):\n",
        "    li=self.nam.split()\n",
        "    if len(li)<=2:\n",
        "      return \"Doll: \"+self.nam+\"\\n\"+\"Total price: \"+str(self.mny)+\" taka\"\n",
        "    else:\n",
        "      return \"Dolls: \"+self.nam+\"\\n\"+\"Total price: \"+str(self.mny)+\" taka\"\n",
        "\n",
        "  def __gt__(self,other):\n",
        "    if self.mny>other.mny:\n",
        "      return True\n",
        "    else:\n",
        "      return False\n",
        "\n",
        "  def __add__(self,other):\n",
        "    x=self.mny+other.mny\n",
        "    y=self.nam+\" \"+other.nam\n",
        "    return Dolls(y,x)\n",
        "\n",
        "\n",
        "obj_1 = Dolls(\"Tweety\", 2500)\n",
        "print(obj_1.detail())\n",
        "if obj_1 > obj_1:\n",
        "  print(\"Congratulations! You get the Tweety as a gift!\")\n",
        "else:\n",
        "  print(\"Thank you!\")\n",
        "print(\"=========================\")\n",
        "obj_2 = Dolls(\"Daffy Duck\", 1800)\n",
        "print(obj_2.detail())\n",
        "if obj_2 > obj_1:\n",
        "  print(\"Congratulations! You get the Tweety as a gift!\")\n",
        "else:\n",
        "  print(\"Thank you!\")\n",
        "print(\"=========================\")\n",
        "obj_3 = Dolls(\"Bugs Bunny\", 3000)\n",
        "print(obj_3.detail())\n",
        "if obj_3 > obj_1:\n",
        "  print(\"Congratulations! You get the Tweety as a gift!\")\n",
        "else:\n",
        "  print(\"Thank you!\")\n",
        "print(\"=========================\")\n",
        "obj_4 = Dolls(\"Porky Pig\", 1500)\n",
        "print(obj_4.detail())\n",
        "if obj_4 > obj_1:\n",
        "  print(\"Congratulations! You get the Tweety as a gift!\")\n",
        "else:\n",
        "  print(\"Thank you!\")\n",
        "print(\"=========================\")\n",
        "obj_5 = obj_2 + obj_3\n",
        "print(obj_5.detail())\n",
        "if obj_5 > obj_1:\n",
        "  print(\"Congratulations! You get the Tweety as a gift!\")\n",
        "else:\n",
        "  print(\"Thank you!\")"
      ],
      "execution_count": null,
      "outputs": [
        {
          "output_type": "stream",
          "text": [
            "Doll: Tweety\n",
            "Total price: 2500 taka\n",
            "Thank you!\n",
            "=========================\n",
            "Doll: Daffy Duck\n",
            "Total price: 1800 taka\n",
            "Thank you!\n",
            "=========================\n",
            "Doll: Bugs Bunny\n",
            "Total price: 3000 taka\n",
            "Congratulations! You get the Tweety as a gift!\n",
            "=========================\n",
            "Doll: Porky Pig\n",
            "Total price: 1500 taka\n",
            "Thank you!\n",
            "=========================\n",
            "Dolls: Daffy Duck Bugs Bunny\n",
            "Total price: 4800 taka\n",
            "Congratulations! You get the Tweety as a gift!\n"
          ],
          "name": "stdout"
        }
      ]
    },
    {
      "cell_type": "code",
      "metadata": {
        "colab": {
          "base_uri": "https://localhost:8080/"
        },
        "id": "R_b_RLYQL6rT",
        "outputId": "37edbbc3-5f63-4ab8-c334-5b673c3eb7b4"
      },
      "source": [
        "#task-8\n",
        "class Coordinates:\n",
        "  def __init__(self,x,y):\n",
        "    self.x=x\n",
        "    self.y=y\n",
        "\n",
        "  def detail(self):\n",
        "    return (self.x,self.y)\n",
        "\n",
        "  def __sub__(self,other):\n",
        "    a=self.x-other.x\n",
        "    b=self.y-other.y\n",
        "    return Coordinates(a,b)\n",
        "\n",
        "  def __mul__(self,other):\n",
        "    c=self.x*other.x\n",
        "    d=self.y*other.y\n",
        "    return Coordinates(c,d)\n",
        "\n",
        "  def __eq__(self,other):\n",
        "    if self.x==other.x:\n",
        "      return \"The calculated coordinates are the same.\"\n",
        "    else:\n",
        "      return \"The calculated coordinates are NOT the same.\"\n",
        "      \n",
        "p1 = Coordinates(int(input()),int(input()))\n",
        "p2 = Coordinates(int(input()),int(input()))\n",
        "p4 = p1 - p2\n",
        "print(p4.detail())\n",
        "p5 = p1 * p2\n",
        "print(p5.detail())\n",
        "point_check = (p4 == p5)\n",
        "print(point_check)"
      ],
      "execution_count": null,
      "outputs": [
        {
          "output_type": "stream",
          "text": [
            "1\n",
            "2\n",
            "3\n",
            "4\n",
            "(-2, -2)\n",
            "(3, 8)\n",
            "The calculated coordinates are NOT the same.\n"
          ],
          "name": "stdout"
        }
      ]
    }
  ]
}