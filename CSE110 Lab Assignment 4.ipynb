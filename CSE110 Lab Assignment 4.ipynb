{
 "cells": [
  {
   "cell_type": "markdown",
   "metadata": {
    "id": "xDNsncrtU1yM"
   },
   "source": [
    "# CSE110 Lab Assignment 4\n",
    "\n",
    "This Assignment is to help you develop your concept of Lists in Python."
   ]
  },
  {
   "cell_type": "markdown",
   "metadata": {
    "id": "gh4GUDaIU1yO"
   },
   "source": [
    "\n",
    "\n",
    "\n",
    "\n",
    "\n",
    "\n",
    "##Write your name, student ID and CSE110 theory section number below:\n",
    "\n",
    "\n",
    "\n",
    "\n",
    "\n"
   ]
  },
  {
   "cell_type": "code",
   "execution_count": null,
   "metadata": {
    "id": "OAYfzLIqgqyE"
   },
   "outputs": [],
   "source": []
  },
  {
   "cell_type": "markdown",
   "metadata": {
    "id": "KD4EKJf6U1yQ"
   },
   "source": [
    "## Write the code in Python to do the following tasks:\n",
    "\n",
    "**<font color='red'>[MUST MAINTAIN VARIABLE NAMING CONVENTIONS FOR ALL THE TASKS]</font>**"
   ]
  },
  {
   "cell_type": "markdown",
   "metadata": {
    "id": "pbdeIVcyU1yi"
   },
   "source": [
    "### Task 1\n",
    "Write a Python program that reads 10 numbers from the user into a list. After reading each number, print all the numbers that have been entered so far in the list. \n",
    "\n",
    "**Example:**\\\n",
    "After the user enters 3, prints “Numbers in the list: [3]”\\\n",
    "After the user enters 5, prints “Numbers in the list: [3, 5]”\\\n",
    "After the user enters 34, prints “Numbers in the list: [3, 5, 34]”\\\n",
    ".... and so on"
   ]
  },
  {
   "cell_type": "code",
   "execution_count": 1,
   "metadata": {
    "id": "A5df9pmJU1yj"
   },
   "outputs": [
    {
     "name": "stdout",
     "output_type": "stream",
     "text": [
      "Enter number : 3\n",
      "Numbers in the list : [3]\n",
      "Enter number : 5\n",
      "Numbers in the list : [3, 5]\n",
      "Enter number : 34\n",
      "Numbers in the list : [3, 5, 34]\n",
      "Enter number : 1\n",
      "Numbers in the list : [3, 5, 34, 1]\n",
      "Enter number : 2\n",
      "Numbers in the list : [3, 5, 34, 1, 2]\n",
      "Enter number : 3\n",
      "Numbers in the list : [3, 5, 34, 1, 2, 3]\n",
      "Enter number : 4\n",
      "Numbers in the list : [3, 5, 34, 1, 2, 3, 4]\n",
      "Enter number : 5\n",
      "Numbers in the list : [3, 5, 34, 1, 2, 3, 4, 5]\n",
      "Enter number : 6\n",
      "Numbers in the list : [3, 5, 34, 1, 2, 3, 4, 5, 6]\n",
      "Enter number : 7\n",
      "Numbers in the list : [3, 5, 34, 1, 2, 3, 4, 5, 6, 7]\n"
     ]
    }
   ],
   "source": [
    "var1=[]\n",
    "for index in range(10):\n",
    "    num1=(int(input(\"Enter number : \")))\n",
    "    var1.append(num1)\n",
    "    var2=var1[0:index+1]\n",
    "    print(\"Numbers in the list :\",var2)\n"
   ]
  },
  {
   "cell_type": "markdown",
   "metadata": {
    "id": "ZrjtT-I_U1zD"
   },
   "source": [
    "### Task 2\n",
    "\n",
    "Write a Python program that takes a list as an input from the user.Then creates a new list excluding the first and last two elements of the given list and prints the new list. If there are not enough elements in the list to do the task, the print \"Not possible\".\n",
    "\n",
    "**Note:** You may use list slicing.\n",
    "\n",
    "===================================================================\n",
    "\n",
    "**Sample Input 1:**<br/>\n",
    "[10, 20, 24, 25, 26, 35, 70]<br/>\n",
    "**Sample Output 1:**<br/>\n",
    "[24, 25, 26]<br/>\n",
    "\n",
    "===================================================================\n",
    "\n",
    "**Sample Input 2:**<br/>\n",
    "[10, 20, 24, 25, 26]<br/>\n",
    "**Sample Output 2:**<br/>\n",
    "[24]<br/>\n",
    "\n",
    "===================================================================\n",
    "\n",
    "**Sample Input 3:**<br/>\n",
    "[10, 20, 24, 25]<br/>\n",
    "**Sample Output 3:**<br/>\n",
    "[]<br/>\n",
    "\n",
    "===================================================================\n",
    "\n",
    "**Sample Input 4:**<br/>\n",
    "[10, 20, 24]<br/>\n",
    "**Sample Output 4:**<br/>\n",
    "Not possible<br/>\n",
    "\n",
    "==================================================================="
   ]
  },
  {
   "cell_type": "code",
   "execution_count": 2,
   "metadata": {
    "id": "3r7Ripj7U1zE"
   },
   "outputs": [
    {
     "name": "stdout",
     "output_type": "stream",
     "text": [
      "Enter the list items : 1,2,3,4,5,6\n",
      "User list:  [1, 2, 3, 4, 5, 6]\n",
      "List excluding the first and last two elements:  [3, 4]\n"
     ]
    }
   ],
   "source": [
    "#to do\n",
    "#method-1\n",
    "num=[]\n",
    "num = [int(item) for item in input(\"Enter the list items : \").split(\",\")]\n",
    "print(\"User list: \",num)\n",
    "num2=len(num)\n",
    "var_b=2\n",
    "klistt=[]\n",
    "if num2>=4:\n",
    "    newlen=num2-4\n",
    "    for index in range(newlen):\n",
    "        count=num[var_b]\n",
    "        klistt.append(count)\n",
    "        var_b+=1\n",
    "    print(\"List excluding the first and last two elements: \",klistt)\n",
    "elif num2<4:\n",
    "    print(\"Not possible\")"
   ]
  },
  {
   "cell_type": "code",
   "execution_count": 2,
   "metadata": {},
   "outputs": [
    {
     "name": "stdout",
     "output_type": "stream",
     "text": [
      "Enter the list items : 1,2\n",
      "User list: [1, 2]\n",
      "Not possible\n"
     ]
    }
   ],
   "source": [
    "#method-2\n",
    "num=[]\n",
    "num = [int(item) for item in input(\"Enter the list items : \").split(\",\")]\n",
    "print(\"User list:\",num)\n",
    "if len(num)>=4:\n",
    "    print(\"List excluding the first and last two elements:\",num[2:-2])\n",
    "if len(num)<4:\n",
    "    print(\"Not possible\")"
   ]
  },
  {
   "cell_type": "markdown",
   "metadata": {
    "id": "AWgZaBZCzmaM"
   },
   "source": [
    "### Task 3\n",
    "\n",
    "Write a python program that reads 5 numbers from the user into a list, and then prints them in the reverse order.\n",
    "\n",
    "*Hint: You may create a list to store the input numbers and then use loop to print them in reverse order*\n",
    "\n",
    "===================================================================\n",
    "\n",
    "**Sample Input:**\\\n",
    "5\\\n",
    "-5\\\n",
    "100\\\n",
    "1\\\n",
    "0\n",
    "\n",
    "**Sample Output:**\\\n",
    "0\\\n",
    "1\\\n",
    "100\\\n",
    "-5\\\n",
    "5\n",
    "\n",
    "==================================================================="
   ]
  },
  {
   "cell_type": "code",
   "execution_count": 4,
   "metadata": {
    "id": "ICW-03YOznTp"
   },
   "outputs": [
    {
     "name": "stdout",
     "output_type": "stream",
     "text": [
      "Enter list elements: 5\n",
      "Enter list elements: -5\n",
      "Enter list elements: 100\n",
      "Enter list elements: 1\n",
      "Enter list elements: 0\n",
      "Main list:  [5, -5, 100, 1, 0]\n",
      "New list:  [0, 1, 100, -5, 5]\n"
     ]
    }
   ],
   "source": [
    "#to do\n",
    "num=[]\n",
    "index=-1\n",
    "list_2=[]\n",
    "\n",
    "for index in range(5):\n",
    "    user_input = (int(input(\"Enter list elements: \")))\n",
    "    num.append(user_input)\n",
    "    \n",
    "for count in range(5):\n",
    "    var1 = num[index]\n",
    "    list_2.append(var1)\n",
    "    index = index-1\n",
    "    \n",
    "print(\"Main list: \",num)\n",
    "print(\"New list: \",list_2)\n"
   ]
  },
  {
   "cell_type": "markdown",
   "metadata": {
    "id": "7a_1pYjfU1zI"
   },
   "source": [
    "### Task 4\n",
    "Assume, you have been given two lists. [Your program should work for any two given lists; change the following lists and check whether your program works correctly for the code you have written]\n",
    "\n",
    "list_one = [1, 2, 3, 4, 5, 6, 7, 8, 9]\\\n",
    "list_two = [10, 11, 12, -13, -14, -15, -16]\n",
    "\n",
    "Write a Python program that creates a new list with all the **even elements** of both of the given lists and prints the new list.\n",
    "\n",
    "**Hint:** You may create a third list to store the even elements of the given lists.\n",
    "\n",
    "===================================================================\n",
    "\n",
    "**Output for the above lists:** [2, 4, 6, 8, 10, 12, -14, -16]\n",
    "\n",
    "==================================================================="
   ]
  },
  {
   "cell_type": "code",
   "execution_count": 3,
   "metadata": {
    "id": "vToa7yazU1zI"
   },
   "outputs": [
    {
     "name": "stdout",
     "output_type": "stream",
     "text": [
      "Enter the list items : 1, 2, 3, 4, 5, 6, 7, 8, 9\n",
      "Enter the list items : 10, 11, 12, -13, -14, -15, -16\n",
      "List one=  [1, 2, 3, 4, 5, 6, 7, 8, 9]\n",
      "List two=  [10, 11, 12, -13, -14, -15, -16]\n",
      "New list=  [2, 4, 6, 8, 10, 12, -14, -16]\n"
     ]
    }
   ],
   "source": [
    "#to do\n",
    "list_one= []  \n",
    "list_two = []  \n",
    "list_one = [int(item) for item in input(\"Enter the list items : \").split(\",\")]\n",
    "  \n",
    "list_two= [int(item)for item in input(\"Enter the list items : \").split(\",\")]\n",
    "  \n",
    "list_three=[]\n",
    "\n",
    "for index in range(len(list_one)):\n",
    "    num = int(list_one[index])\n",
    "    if num%2==0:\n",
    "        list_three.append(num)\n",
    "        \n",
    "for index in range(len(list_two)):\n",
    "    num2 = int(list_two[index])\n",
    "    if num2%2==0:\n",
    "        list_three.append(num2)\n",
    "print(\"List one= \",list_one)\n",
    "print(\"List two= \",list_two)\n",
    "print(\"New list= \",list_three)"
   ]
  },
  {
   "cell_type": "markdown",
   "metadata": {
    "id": "QaD4hLn92EKT"
   },
   "source": [
    "### Task 5\n",
    "\n",
    "Write a Python program that takes numbers as input into a list, removes multiple occurences of any number and then finally prints a list **without duplicate values**.\n",
    "\n",
    "*Hint: You may create a third list to store the results. You can use membership operators (in, not in) to make sure no duplicates are added.*\n",
    "\n",
    "===================================================================\n",
    "\n",
    "**Sample Input 1:**<br/>\n",
    "0, 0, 1, 2, 3, 4, 4, 5, 6, 6, 6, 7, 8, 9, 4, 4<br/>\n",
    "\n",
    "\n",
    "**Sample Output 1:**<br/>\n",
    "[0, 1, 2, 3, 4, 5, 6, 7, 8, 9]<br/>\n",
    "\n",
    "===================================================================\n",
    "\n",
    "**Sample Input 2:**<br/>\n",
    "7, 7, 7, 1, 0, 3, 3, 55, 9<br/>\n",
    "\n",
    "\n",
    "**Sample Output 2:**<br/>\n",
    "[7, 1, 0, 3, 55, 9]<br/>\n",
    "\n",
    "==================================================================="
   ]
  },
  {
   "cell_type": "code",
   "execution_count": 20,
   "metadata": {
    "id": "EUbQbz5hU1zP"
   },
   "outputs": [
    {
     "name": "stdout",
     "output_type": "stream",
     "text": [
      "Enter the list items : 7, 7, 7, 1, 0, 3, 3, 55, 9\n",
      "user list:  [7, 7, 7, 1, 0, 3, 3, 55, 9]\n",
      "list without duplicates:  [7, 1, 0, 3, 55, 9]\n"
     ]
    }
   ],
   "source": [
    "#to do\n",
    "num=[]\n",
    "var1=[]\n",
    "num = [int(item) for item in input(\"Enter the list items : \").split(\",\")]\n",
    "for index in range(len(num)):\n",
    "    var_a=num[index]\n",
    "    if var_a not in var1:\n",
    "        var1.append(var_a)\n",
    "print(\"user list: \",num)\n",
    "print(\"list without duplicates: \",var1)"
   ]
  },
  {
   "cell_type": "markdown",
   "metadata": {
    "id": "wfcSytFVU1zU"
   },
   "source": [
    "### Task 6\n",
    "\n",
    "Write a Python program that reads 5 numbers into a list and prints the largest number and its location or index position on the list. <font color='red'>[You are not allowed to use the max(), sort(), sorted() function here]</font>\n",
    "\n",
    "**Hint:** Assume the first input to be the largest value initially and the largest value’s location to be 0.\n",
    "\n",
    "**Note:** You may need to be careful while printing the output. Depending on your code, you might need data conversion.\n",
    "\n",
    "===================================================================\n",
    "\n",
    "**Sample Input:**\\\n",
    " 7, 13, 2, 10, 6\n",
    "\n",
    "**Sample Output:**\\\n",
    "My list: [7, 13, 2, 10, 6]\\\n",
    "Largest number in the list is 13 which was found at index 1.\n",
    "\n",
    "==================================================================="
   ]
  },
  {
   "cell_type": "code",
   "execution_count": 7,
   "metadata": {
    "id": "kXbEh1t3U1zV"
   },
   "outputs": [
    {
     "name": "stdout",
     "output_type": "stream",
     "text": [
      "Enter list element: 7\n",
      "Enter list element: 13\n",
      "Enter list element: 2\n",
      "Enter list element: 10\n",
      "Enter list element: 6\n",
      "list: [7, 13, 2, 10, 6]\n",
      "Largest number 13  was found at index 1\n"
     ]
    }
   ],
   "source": [
    "#to do\n",
    "list1 = list()\n",
    "for i in range(5):\n",
    "    num = int(input('Enter list element: '))\n",
    "    list1.append(num)\n",
    "    largest = list1[0]\n",
    "    position_largest = 0    \n",
    "for index in range(4):    \n",
    "    if  (list1[index +1] > largest):\n",
    "        largest = list1[index +1]\n",
    "        position_largest = index +1\n",
    "print('list:',list1)\n",
    "print(\"Largest number\",largest,\" was found at index\", position_largest)"
   ]
  },
  {
   "cell_type": "markdown",
   "metadata": {
    "id": "nwRZ3_0tC3fq"
   },
   "source": [
    "### Task 7\n",
    "\n",
    "\n",
    "Assume, you have been given two lists. [Your program should work for any two given lists; make changes to the lists below and check whether your program works correctly]\n",
    "\n",
    "list_one = [1, 2 , 2, 4, 5, 5, 7, 99, 200, 303, 70]\\\n",
    "list_two = [1, 1, 2, 3, 3, 3, 4, 5, 200, 500, -5]\n",
    "\n",
    "Write a Python program that creates a new list with all the **unique elements** of both the given lists. \n",
    "<font color='red'> **You need to make sure that there are no duplicates in the resulting list.**</font> Finally, print the updated list.\n",
    "\n",
    "**Hint:** You may create a third list to store the results. You can use membership operators (in, not in) to make sure no duplicates are added.\n",
    "\n",
    "===================================================================\n",
    "\n",
    "**Output for the above two lists**: \n",
    "[1, 2, 4, 5, 7, 99, 200, 303, 70, 3, 500, -5]\n",
    "\n",
    "===================================================================\n",
    "\n"
   ]
  },
  {
   "cell_type": "code",
   "execution_count": 7,
   "metadata": {
    "id": "LEnaTlyoMJdS"
   },
   "outputs": [
    {
     "name": "stdout",
     "output_type": "stream",
     "text": [
      "Enter the list items : 1, 2 , 2, 4, 5, 5, 7, 99, 200, 303, 70\n",
      "Enter the list items : 1, 1, 2, 3, 3, 3, 4, 5, 200, 500, -5\n",
      "1st list:  [1, 2, 2, 4, 5, 5, 7, 99, 200, 303, 70]\n",
      "2nd list:  [1, 1, 2, 3, 3, 3, 4, 5, 200, 500, -5]\n",
      "New list without duplicates:  [1, 2, 4, 5, 7, 99, 200, 303, 70, 3, 500, -5]\n"
     ]
    }
   ],
   "source": [
    "#to do\n",
    "list_one= []  \n",
    "list_two = []  \n",
    "list_one = [int(item) for item in input(\"Enter the list items : \").split(\",\")]\n",
    "  \n",
    "list_two= [int(item)for item in input(\"Enter the list items : \").split(\",\")]\n",
    "  \n",
    "lastlist=[]\n",
    "for index in range(len(list_one)):\n",
    "    var_a = list_one[index]\n",
    "    if var_a not in lastlist:\n",
    "        lastlist.append(var_a)\n",
    "for index in range(len(list_two)):\n",
    "    var_b = list_two[index]\n",
    "    if var_b not in lastlist:\n",
    "        lastlist.append(var_b)\n",
    "print(\"1st list: \",list_one)\n",
    "print(\"2nd list: \",list_two)\n",
    "print(\"New list without duplicates: \",lastlist)\n"
   ]
  },
  {
   "cell_type": "markdown",
   "metadata": {
    "id": "bvF30RQlemBW"
   },
   "source": [
    "### Task 8\n",
    "\n",
    "Write a Python program that takes two lists and prints True if they have at least one common member.\n",
    "\n",
    "===================================================================\n",
    "\n",
    "**Sample Input 1:**\\\n",
    "List_one : [1, 4, 3, 2, 6]\\\n",
    "List_two : [5, 6, 9, 8, 7]\n",
    "\n",
    "**Sample Output 1:**\\\n",
    "True\n",
    "\n",
    "===================================================================\n",
    "\n",
    "**Sample Input 2:**\\\n",
    "List_one : [1, 4, 3, 2, 5]\\\n",
    "List_two : [8, 7, 6, 9]\n",
    "\n",
    "**Sample Output 2:**\\\n",
    "False\n",
    "\n",
    "===================================================================\n"
   ]
  },
  {
   "cell_type": "code",
   "execution_count": 21,
   "metadata": {
    "id": "yIlAlqlGe7IA"
   },
   "outputs": [
    {
     "name": "stdout",
     "output_type": "stream",
     "text": [
      "Enter list items : 1,2,3,4,5,6\n",
      "Enter list items : 12,34,43,56\n",
      "List one= [1, 2, 3, 4, 5, 6]\n",
      "List two= [12, 34, 43, 56]\n",
      "False\n"
     ]
    }
   ],
   "source": [
    "list_one= []  \n",
    "list_two = []  \n",
    "list_one = [int(item) for item in input(\"Enter list items : \").split(\",\")]\n",
    "  \n",
    "list_two= [int(item)for item in input(\"Enter list items : \").split(\",\")]\n",
    "\n",
    "num=\"False\"\n",
    "for index in range(len(list_one)):\n",
    "    if list_one[index] in list_two:\n",
    "        num=\"True\"\n",
    "print(\"List one=\",list_one)\n",
    "print(\"List two=\",list_two)\n",
    "print(num)\n",
    "\n"
   ]
  },
  {
   "cell_type": "markdown",
   "metadata": {
    "id": "vyFt-Ra5erR4"
   },
   "source": [
    "### Task 9\n",
    "\n",
    "Write a Python program that reads 10 numbers into a list and prints the numbers of that specified list after removing **even numbers** from it.\n",
    "\n",
    "=========================================================================\n",
    "\n",
    "**Sample Input:**\n",
    "\n",
    "7,12,4,55,96,2,11,61,33,42\n",
    "\n",
    "**Sample Output:**\n",
    "\n",
    "[7, 55, 11, 61, 33]\n",
    "\n",
    "=========================================================================\n",
    "\n",
    "\n",
    "\n"
   ]
  },
  {
   "cell_type": "code",
   "execution_count": 8,
   "metadata": {
    "id": "1U3bswq9e9B3"
   },
   "outputs": [
    {
     "name": "stdout",
     "output_type": "stream",
     "text": [
      "Enter list items : 7,12,4,55,96,2,11,61,33,42\n",
      "Main list: [7, 12, 4, 55, 96, 2, 11, 61, 33, 42]\n",
      "List after removing even numbers:  [7, 55, 11, 61, 33]\n"
     ]
    }
   ],
   "source": [
    "#to do\n",
    "num=[]\n",
    "num = [int(item) for item in input(\"Enter list items : \").split(\",\")]\n",
    "new_list=[]\n",
    "for var in num:\n",
    "    if var%2!=0:\n",
    "        new_list.append(var)\n",
    "print(\"Main list:\",num)\n",
    "print(\"List after removing even numbers: \",new_list)"
   ]
  },
  {
   "cell_type": "markdown",
   "metadata": {
    "id": "G9jPuLWOetqd"
   },
   "source": [
    "### Task 10\n",
    "\n",
    "Write a Python program that reads an integer N. After, read N inputs from the user and create a list of N items and print the list. Then remove the Empty strings from the list and print the new list.\n",
    "\n",
    "=========================================================================\n",
    "\n",
    "**Sample Input:**\n",
    "\n",
    "8<br />\n",
    "\n",
    "hey<br />\n",
    "\n",
    "there\n",
    "<br />\n",
    "\n",
    "what's\n",
    "<br />\n",
    "\n",
    "up\n",
    "<br />\n",
    "\n",
    "?\n",
    "\n",
    "**Sample Output:**\n",
    "\n",
    "Original List:\n",
    "[\"hey\", \"there\", \" \", \"what's\", \" \", \"up\", \" \", \"?\"]\n",
    "\n",
    "Modified List:\n",
    "[\"hey\", \"there\", \"what's\", \"up\", \"?\"]\n",
    "\n",
    "==========================================================================\n",
    "\n",
    "\n"
   ]
  },
  {
   "cell_type": "code",
   "execution_count": 9,
   "metadata": {
    "id": "OlrhifBge-TA"
   },
   "outputs": [
    {
     "name": "stdout",
     "output_type": "stream",
     "text": [
      "Enter the length of the list: 8\n",
      "Enter list elements:hey\n",
      "Enter list elements:there\n",
      "Enter list elements:\n",
      "Enter list elements:whts\n",
      "Enter list elements:\n",
      "Enter list elements:up\n",
      "Enter list elements:\n",
      "Enter list elements:?\n",
      "User list:  ['hey', 'there', '', 'whts', '', 'up', '', '?']\n",
      "List without empty strings:  ['hey', 'there', 'whts', 'up', '?']\n"
     ]
    }
   ],
   "source": [
    "#to do\n",
    "list_one=[]\n",
    "lastlist=[]\n",
    "list_len=int(input(\"Enter the length of the list: \"))\n",
    "for count in range(list_len):\n",
    "    num=input(\"Enter list elements:\")\n",
    "    list_one.append(num)\n",
    "for index in list_one:\n",
    "    if index!=\"\":\n",
    "        lastlist.append(index)\n",
    "print(\"User list: \",list_one)\n",
    "print(\"List without empty strings: \",lastlist)"
   ]
  },
  {
   "cell_type": "markdown",
   "metadata": {
    "id": "UjTy79X6ewce"
   },
   "source": [
    "## Task 11\n",
    "\n",
    "Write a Python program that replaces the last element of first list with second list.\n",
    "\n",
    "===================================================================\n",
    "\n",
    "**Sample Input 1:**\\\n",
    "List_one : [1, 4, 7, 5]\\\n",
    "List_two : [6, 1, 3, 9]\n",
    "\n",
    "**Sample Output 1:**\\\n",
    "[1, 4, 7, 6, 1, 3, 9]\n",
    "\n",
    "===================================================================\n",
    "\n",
    "**Sample Input 2:**\\\n",
    "List_one : [1, 3, 5, 7, 9, 10]\\\n",
    "List_two : [2, 4, 6, 8]\n",
    "\n",
    "**Sample Output 2:**\\\n",
    "[1, 3, 5, 7, 9, 2, 4, 6, 8]\n",
    "\n",
    "===================================================================\n",
    "\n",
    "\n",
    "\n"
   ]
  },
  {
   "cell_type": "code",
   "execution_count": 13,
   "metadata": {
    "id": "bBseKJuse_bX"
   },
   "outputs": [
    {
     "name": "stdout",
     "output_type": "stream",
     "text": [
      "Enter the list items : 1, 3, 5, 7, 9, 10\n",
      "Enter the list items : 2, 4, 6, 8\n",
      "List one:  [1, 3, 5, 7, 9, 10]\n",
      "List two:  [2, 4, 6, 8]\n",
      "Final list [1, 3, 5, 7, 9, 2, 4, 6, 8]\n"
     ]
    }
   ],
   "source": [
    "#to do\n",
    "#method-1\n",
    "#task-11\n",
    "list_one= []  \n",
    "list_two = []  \n",
    "list_one = [int(item) for item in input(\"Enter the list items : \").split(\",\")]\n",
    "var1=len(list_one)  \n",
    "list_two= [int(item)for item in input(\"Enter the list items : \").split(\",\")]\n",
    "var2=len(list_two)\n",
    "num=[]\n",
    "for index in range(var1-1):\n",
    "    add=list_one[index]\n",
    "    num.append(add)\n",
    "for index in range(var2):\n",
    "    add=list_two[index]\n",
    "    num.append(add)\n",
    "print(\"List one: \",list_one)\n",
    "print(\"List two: \",list_two)\n",
    "print(\"Final list\",num)"
   ]
  },
  {
   "cell_type": "code",
   "execution_count": 14,
   "metadata": {},
   "outputs": [
    {
     "name": "stdout",
     "output_type": "stream",
     "text": [
      "Enter the list items : 1, 3, 5, 7, 9, 10\n",
      "Enter the list items : 2, 4, 6, 8\n",
      "List one:  [1, 3, 5, 7, 9, 10]\n",
      "List two:  [2, 4, 6, 8]\n",
      "Final list [1, 3, 5, 7, 9, 2, 4, 6, 8]\n"
     ]
    }
   ],
   "source": [
    "#method-2 #task-11\n",
    "list_one= []  \n",
    "list_two = []  \n",
    "list_one = [int(item) for item in input(\"Enter the list items : \").split(\",\")]\n",
    "list_two= [int(item)for item in input(\"Enter the list items : \").split(\",\")]\n",
    "\n",
    "num=[]\n",
    "num.extend(list_one[0:-1])\n",
    "num.extend(list_two)\n",
    "print(\"List one: \",list_one)\n",
    "print(\"List two: \",list_two)\n",
    "print(\"Final list\",num)"
   ]
  },
  {
   "cell_type": "markdown",
   "metadata": {
    "id": "4pBLPmvre0jv"
   },
   "source": [
    "### Task 12\n",
    "\n",
    "Write a Python program that turns every item of a list into its square.\n",
    "\n",
    "===================================================================\n",
    "\n",
    "**Sample Input 1:**\\\n",
    "[1, 2, 3, 4, 5, 6, 7]\n",
    "\n",
    "**Sample Output 1:**\\\n",
    "[1, 4, 9, 16, 25, 36, 49]\n",
    "\n",
    "===================================================================\n",
    "\n",
    "**Sample Input 2:**\\\n",
    "[3, 5, 1, 6]\n",
    "\n",
    "**Sample Output 2:**\\\n",
    "[9, 25, 1, 36]\n",
    "\n",
    "\n",
    "===================================================================\n",
    "\n",
    "\n",
    "\n",
    "\n",
    "\n"
   ]
  },
  {
   "cell_type": "code",
   "execution_count": 5,
   "metadata": {
    "id": "5NDg0odDfANt"
   },
   "outputs": [
    {
     "name": "stdout",
     "output_type": "stream",
     "text": [
      "Enter the list items : 3, 5, 1, 6\n",
      "Main list: [3, 5, 1, 6]\n",
      "New list: [9, 25, 1, 36]\n"
     ]
    }
   ],
   "source": [
    "#to do\n",
    "list_one= []   \n",
    "list_one = [int(item) for item in input(\"Enter the list items : \").split(\",\")]\n",
    "new_list=[]\n",
    "for index in list_one:\n",
    "    new_index= index*index\n",
    "    new_list.append(new_index)\n",
    "print(\"Main list:\",list_one)\n",
    "print(\"New list:\",new_list)"
   ]
  },
  {
   "cell_type": "markdown",
   "metadata": {
    "id": "WZXnxHTdGrMC"
   },
   "source": [
    "## Optional Tasks (13-15) [Ungraded]"
   ]
  },
  {
   "cell_type": "markdown",
   "metadata": {
    "id": "lvSiLaobU1zY"
   },
   "source": [
    "### Task 13\n",
    "\n",
    "Write a Python program that reads 5 numbers into a list and prints the smallest and largest number and their locations in the list. <font color='red'>[You are not allowed to use the max(), min(), sort(), sorted() functions here]</font>\n",
    "\n",
    "**Hint:** You may assume the first input to be the largest value initially and the largest value’s location to be 0. Similarly, you can assume the first input to be the smallest value initially and the smallest value’s location to be 0. \n",
    "\n",
    "**Note:** You may need to be careful while printing the output. Depending on your code, you might need data conversion.\n",
    "\n",
    "===================================================================\n",
    "\n",
    "**Sample Input:**\\\n",
    "7, 13, -5, 10, 6\n",
    "\n",
    "**Sample Output:**\\\n",
    "My list: [7, 13, -5, 10, 6]\\\n",
    "Smallest number in the list is -5 which was found at index 2\\\n",
    "Largest number in the list is 13 which was found at index 1\n",
    "\n",
    "==================================================================="
   ]
  },
  {
   "cell_type": "code",
   "execution_count": 16,
   "metadata": {
    "id": "yiS5TWSDU1zY"
   },
   "outputs": [
    {
     "name": "stdout",
     "output_type": "stream",
     "text": [
      "Enter a number: 7\n",
      "Enter a number: 13\n",
      "Enter a number: -5\n",
      "Enter a number: 10\n",
      "Enter a number: 6\n",
      "list: [7, 13, -5, 10, 6]\n",
      "Largest number 13  was found at index 1\n",
      "Smallest number -5  was found at index 2\n"
     ]
    }
   ],
   "source": [
    "#to do\n",
    "list1 = list()\n",
    "for i in range(5):\n",
    "    num = int(input('Enter a number: '))\n",
    "    list1.append(num)\n",
    "    largest = list1[0]\n",
    "    position_largest = 0 \n",
    "    mini=list1[0]\n",
    "    minpos=0  \n",
    "for index in range(4):    \n",
    "    if  (list1[index +1] > largest):\n",
    "        largest = list1[index +1]\n",
    "        position_largest = index +1\n",
    "    if (list1[index+1]<mini):\n",
    "        mini=list1[index+1]\n",
    "        minpos=index+1\n",
    "\n",
    "print('list:',list1)\n",
    "print(\"Largest number\",largest,\" was found at index\",position_largest) \n",
    "print(\"Smallest number\",mini,\" was found at index\",minpos) "
   ]
  },
  {
   "cell_type": "markdown",
   "metadata": {
    "id": "rguDZ8SBCHD8"
   },
   "source": [
    "### Task 14\n",
    "Write a Python program that takes two lists as an input from the user. Then print a new list with the **common elements** of both the input lists. \n",
    "\n",
    "*Hint: You may need to create a third list to store the results. You can use membership operators (in, not in) to make sure similar elements are added.*\n",
    "\n",
    "===================================================================\n",
    "\n",
    "**Sample Input 1:**<br/>\n",
    "A, B, C, D\n",
    "\n",
    "\n",
    "C, E , F, B\n",
    "\n",
    "\n",
    "**Sample Output 1:**<br/>\n",
    "['C', 'B']\n",
    "\n",
    "===================================================================\n",
    "\n",
    "**Sample Input 2:**<br/>\n",
    "1, 3, A, H, P\n",
    "\n",
    "\n",
    "A, G, 1, P, O\n",
    "\n",
    "\n",
    "**Sample Output 2:**<br/>\n",
    "['1', 'A', 'P']\n",
    "\n",
    "===================================================================\n"
   ]
  },
  {
   "cell_type": "code",
   "execution_count": 18,
   "metadata": {
    "id": "3iueGiPPGG66"
   },
   "outputs": [
    {
     "name": "stdout",
     "output_type": "stream",
     "text": [
      "Enter the list items : 1,3,A,H,P\n",
      "Enter the list items : A,G,1,P\n",
      "First list: ['1', '3', 'A', 'H', 'P']\n",
      "Second list:  ['A', 'G', '1', 'P']\n",
      "List with common elements:  ['1', 'A', 'P']\n"
     ]
    }
   ],
   "source": [
    "# to do\n",
    "list_one= []  \n",
    "list_two = []  \n",
    "list_one = input(\"Enter the list items : \").split(\",\")\n",
    "  \n",
    "list_two= [(item)for item in input(\"Enter the list items : \").split(\",\")]\n",
    "new_list=[]\n",
    "for  index in range (len(list_one)):\n",
    "    if list_one[index] in list_two:\n",
    "        new_list.append(list_one[index])\n",
    "print(\"First list:\",list_one)\n",
    "print(\"Second list: \",list_two)\n",
    "print(\"List with common elements: \",new_list)"
   ]
  },
  {
   "cell_type": "markdown",
   "metadata": {
    "id": "tjcE5oitCM2s"
   },
   "source": [
    "### Task 15\n",
    "\n",
    "\n",
    "Write a Python program that reads 5 numbers into a list and prints the second largest number and its location or index position on the list. <font color='red'>[You are not allowed to use the max(), sort(), sorted() function here]</font>\n",
    "\n",
    "===================================================================\n",
    "\n",
    "**Sample Input:**\\\n",
    " 7, 13, 2, 10, 6\n",
    "\n",
    "**Sample Output:**\\\n",
    "My list: [7, 13, 2, 10, 6]\\\n",
    "Second largest number in the list is 10 which was found at index 3.\n",
    "\n",
    "==================================================================="
   ]
  },
  {
   "cell_type": "code",
   "execution_count": 19,
   "metadata": {
    "id": "b2TwkUqnGZU-"
   },
   "outputs": [
    {
     "name": "stdout",
     "output_type": "stream",
     "text": [
      "Enter list elements: 7\n",
      "Enter list elements: 13\n",
      "Enter list elements: 2\n",
      "Enter list elements: 10\n",
      "Enter list elements: 6\n",
      "list: [7, 13, 2, 10, 6]\n",
      "2nd Largest number 10  was found at index 3\n"
     ]
    }
   ],
   "source": [
    "# to do\n",
    "list1 = list()\n",
    "list2=[]\n",
    "for i in range(5):\n",
    "    num = int(input('Enter list elements: '))\n",
    "    list1.append(num)\n",
    "    list2.append(num)\n",
    "    largest = list1[0]\n",
    "    position_largest = 0   \n",
    "for index in range(4):    \n",
    "    if  (list1[index +1] > largest):\n",
    "        largest = list1[index +1]\n",
    "        position_largest = index +1\n",
    "maxi=0\n",
    "maxiposi= 0\n",
    "for i in range(4):\n",
    "    if list2[i+1]>maxi and list2[i+1]<largest:\n",
    "        maxi = list2[i+1]\n",
    "        maxiposi = i +1\n",
    "print('list:',list1)\n",
    "print(\"2nd Largest number\",maxi,\" was found at index\", maxiposi) \n"
   ]
  },
  {
   "cell_type": "code",
   "execution_count": null,
   "metadata": {},
   "outputs": [],
   "source": []
  }
 ],
 "metadata": {
  "colab": {
   "collapsed_sections": [],
   "name": "CSE110 Lab Assignment 4.ipynb",
   "provenance": []
  },
  "kernelspec": {
   "display_name": "Python 3",
   "language": "python",
   "name": "python3"
  },
  "language_info": {
   "codemirror_mode": {
    "name": "ipython",
    "version": 3
   },
   "file_extension": ".py",
   "mimetype": "text/x-python",
   "name": "python",
   "nbconvert_exporter": "python",
   "pygments_lexer": "ipython3",
   "version": "3.8.5"
  }
 },
 "nbformat": 4,
 "nbformat_minor": 1
}
