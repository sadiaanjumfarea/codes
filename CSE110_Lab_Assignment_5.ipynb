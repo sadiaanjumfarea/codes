{
  "cells": [
    {
      "cell_type": "markdown",
      "metadata": {
        "id": "U4PRkuyUtDRw"
      },
      "source": [
        "# CSE110 Lab Assignment 5\n",
        "\n",
        "This Assignment is to help you develop your concept of Tuples and Dictionaries in Python.\n",
        "\n",
        "Write your name, student ID and CSE110 theory section number below:\n"
      ]
    },
    {
      "cell_type": "code",
      "execution_count": null,
      "metadata": {
        "id": "wl7fu2qrggWI"
      },
      "outputs": [],
      "source": [
        ""
      ]
    },
    {
      "cell_type": "markdown",
      "metadata": {
        "id": "PD425BrvtDRy"
      },
      "source": [
        "## Write the code in Python to do the following tasks:\n",
        "\n",
        "**<font color='red'>[MUST MAINTAIN VARIABLE NAMING CONVENTIONS FOR ALL THE TASKS]</font>**\n",
        "\n",
        "## Part 1: Tuple"
      ]
    },
    {
      "cell_type": "markdown",
      "metadata": {
        "id": "FNOorLYXtDRz"
      },
      "source": [
        "### Task 1\n",
        "\n",
        "Assume, you have been given a tuple.\n",
        "\n",
        "a_tuple = (\"The Institute\",\\\n",
        "        (\"Best Mystery & Thriller\", \"The Silent Patient\", 68821),\\\n",
        "        75717,\\\n",
        "        [1, 2, 3, 400, 5, 6, 7],\\\n",
        "        (\"Best Fiction\", \"The Testaments\", 98291)\\\n",
        ")\n",
        "\n",
        "Write **one line** of Python code to access and print the value 400.\n",
        "\n",
        "===================================================================\n",
        "\n",
        "Output: 400\n",
        "\n",
        "===================================================================\n"
      ]
    },
    {
      "cell_type": "code",
      "execution_count": null,
      "metadata": {
        "id": "NDKB1cIMtDR0",
        "outputId": "62fd8cc4-ab1c-416e-dbfd-551f8c957b70"
      },
      "outputs": [
        {
          "name": "stdout",
          "output_type": "stream",
          "text": [
            "400\n"
          ]
        }
      ],
      "source": [
        "#to do\n",
        "\n",
        "a_tuple = (\"The Institute\",(\"Best Mystery & Thriller\", \"The Silent Patient\", 68821),75717,[1, 2, 3, 400, 5, 6, 7],\n",
        "           (\"Best Fiction\", \"The Testaments\", 98291))\n",
        "print(a_tuple[3][3])\n"
      ]
    },
    {
      "cell_type": "markdown",
      "metadata": {
        "id": "BXlIw1svtDR-"
      },
      "source": [
        "### Task 2\n",
        "\n",
        "Assume, you have been given a tuple. Write a Python program that creates a **new tuple** excluding the first and last two elements of the given tuple and prints the new tuple. \n",
        "\n",
        "**Hint:** You may use tuple slicing.\n",
        "\n",
        "===================================================================\n",
        "\n",
        "**Sample Input 1:**\\\n",
        "(10, 20, 24, 25, 26, 35, 70)\n",
        "\n",
        "\n",
        "**Sample Output 1:**\\\n",
        "(24, 25, 26)\n",
        "\n",
        "===================================================================\n",
        "\n",
        "**Sample Input 2:**\\\n",
        "(-10, 20, 30, 40)\n",
        "\n",
        "\n",
        "**Sample Output 2:**\\\n",
        "()\n",
        "\n",
        "===================================================================\n",
        "\n",
        "**Sample Input 3:**\\\n",
        "(-10, 20, 25, 30, 40)\n",
        "\n",
        "\n",
        "**Sample Output 3:**\\\n",
        "(25,)\n",
        "\n",
        "===================================================================\n"
      ]
    },
    {
      "cell_type": "code",
      "execution_count": null,
      "metadata": {
        "id": "FTJ-5AmNtDR_",
        "outputId": "671bf4a3-9a82-47d5-c396-602ba5dc6370"
      },
      "outputs": [
        {
          "name": "stdout",
          "output_type": "stream",
          "text": [
            "Given tuple: (-10, 20, 30, 40)\n",
            "New tuple: ()\n"
          ]
        }
      ],
      "source": [
        "#to do #1\n",
        "user_tuple = (-10, 20, 30, 40)\n",
        "new_tuple = user_tuple[2:-2]\n",
        "\n",
        "print(\"Given tuple:\",(user_tuple))\n",
        "\n",
        "print(\"New tuple:\",(new_tuple))"
      ]
    },
    {
      "cell_type": "code",
      "execution_count": null,
      "metadata": {
        "id": "lpnHL3SBZuFG",
        "outputId": "ccaff9c8-1307-42ff-bf08-8090526e39ad"
      },
      "outputs": [
        {
          "name": "stdout",
          "output_type": "stream",
          "text": [
            "Enter tuple elements:a,b,c,d,e,f,g\n",
            "Given tuple: ('a', 'b', 'c', 'd', 'e', 'f', 'g')\n",
            "New tuple: ('c', 'd', 'e')\n"
          ]
        }
      ],
      "source": [
        "#2\n",
        "user_tuple = input(\"Enter tuple elements:\").split(\",\")\n",
        "new_tuple = user_tuple[2:-2]\n",
        "\n",
        "print(\"Given tuple:\",tuple(user_tuple))\n",
        "print(\"New tuple:\",tuple(new_tuple))"
      ]
    },
    {
      "cell_type": "markdown",
      "metadata": {
        "id": "Z3GS2TE6tDSG"
      },
      "source": [
        "### Task 3\n",
        "\n",
        "Assume, you have been given a tuple. \n",
        "\n",
        "\n",
        "book_info = (\\\n",
        "    (\"Best Mystery & Thriller\",\"The Silent Patient\",68,821),\\\n",
        "    (\"Best Horror\",\"The Institute\",75,717),\\\n",
        "    (\"Best History & Biography\",\"The five\",31,783 ),\\\n",
        "    (\"Best Fiction\",\"The Testaments\",98,291)\\\n",
        ")\n",
        "\n",
        "Write a Python program that prints the size of the tuple and all its elements as shown below.\n",
        "\n",
        "===================================================================\n",
        "\n",
        "**Output:**\\\n",
        "Size of the tuple is: 4\\\n",
        "('Best Mystery & Thriller', 'The Silent Patient', 68, 821)\\\n",
        "('Best Horror', 'The Institute', 75, 717)\\\n",
        "('Best History & Biography', 'The five', 31, 783)\\\n",
        "('Best Fiction', 'The Testaments', 98, 291)\n",
        "\n",
        "==================================================================="
      ]
    },
    {
      "cell_type": "code",
      "execution_count": null,
      "metadata": {
        "id": "RPFYcAjntDSG",
        "outputId": "121ad333-3d40-4a48-a9ab-00a5b3211041"
      },
      "outputs": [
        {
          "name": "stdout",
          "output_type": "stream",
          "text": [
            "Size of the tuple is: 4\n",
            "('Best Mystery & Thriller', 'The Silent Patient', 68, 821)\n",
            "('Best Horror', 'The Institute', 75, 717)\n",
            "('Best History & Biography', 'The five', 31, 783)\n",
            "('Best Fiction', 'The Testaments', 98, 291)\n"
          ]
        }
      ],
      "source": [
        "#to do\n",
        "\n",
        "book_info = (\n",
        "(\"Best Mystery & Thriller\",\"The Silent Patient\",68,821),\n",
        "(\"Best Horror\",\"The Institute\",75,717),\n",
        "(\"Best History & Biography\",\"The five\",31,783 ),\n",
        "(\"Best Fiction\",\"The Testaments\",98,291)\n",
        ")\n",
        "tuplelen=len(book_info)\n",
        "print(\"Size of the tuple is:\",tuplelen)\n",
        "\n",
        "for num in range(tuplelen):\n",
        "    print(book_info[num])\n",
        "    "
      ]
    },
    {
      "cell_type": "markdown",
      "metadata": {
        "id": "glKgAPlGtDSK"
      },
      "source": [
        "### Task 4\n",
        "\n",
        "Assume, you have been given a tuple with details about books that won the Good Reads Choice Awards. \n",
        "\n",
        "book_info = (\\\n",
        "    (\"Best Mystery & Thriller\",\"The Silent Patient\",68821),\\\n",
        "    (\"Best Horror\",\"The Institute\",75717),\\\n",
        "    (\"Best History & Biography\",\"The five\",31783 ),\\\n",
        "    (\"Best Fiction\",\"The Testaments\",98291)\\\n",
        ")\n",
        "\n",
        "Write a Python program that prints the award category, the book name, and its total votes earned as shown below. \n",
        "\n",
        "**<font color='red'>[Must use Tuple unpacking for printing and need to handle the quotation marks as a part of the output]</font>**\n",
        "\n",
        "===================================================================\n",
        "\n",
        "**Output:**\\\n",
        "The Silent Patient won the 'Best Mystery & Thriller' category with 68821 votes\\\n",
        "The Institute won the 'Best Horror' category with 75717 votes\\\n",
        "The five won the 'Best History & Biography' category with 31783 votes\\\n",
        "The Testaments won the 'Best Fiction' category with 98291 votes\n",
        "\n",
        "==================================================================="
      ]
    },
    {
      "cell_type": "code",
      "execution_count": null,
      "metadata": {
        "id": "LgTKpSGatDSM",
        "outputId": "caa086bd-4d71-4746-b611-9b26bb68d85e"
      },
      "outputs": [
        {
          "name": "stdout",
          "output_type": "stream",
          "text": [
            "The Silent Patient won the ' Best Mystery & Thriller ' category with 68821 votes\n",
            "The Institute won the ' Best Horror ' category with 75717 votes\n",
            "The five won the ' Best History & Biography ' category with 31783 votes\n",
            "The Testaments won the ' Best Fiction ' category with 98291 votes\n"
          ]
        }
      ],
      "source": [
        "#to do\n",
        "\n",
        "book_info = ((\"Best Mystery & Thriller\",\"The Silent Patient\",68821),(\"Best Horror\",\"The Institute\",75717),\n",
        "             (\"Best History & Biography\",\"The five\",31783 ),(\"Best Fiction\",\"The Testaments\",98291))\n",
        "tuplelen = len(book_info) \n",
        "\n",
        "for num in range(tuplelen):\n",
        "    var_a = book_info[num][1]\n",
        "    var_b = (book_info[num][0])\n",
        "    var_c = book_info[num][2]\n",
        "    print(var_a,\"won the\",\"'\",var_b,\"'\",\"category with\",var_c,\"votes\")\n"
      ]
    },
    {
      "cell_type": "markdown",
      "metadata": {
        "id": "bRe9K_j55zpb"
      },
      "source": [
        "### Task 5\n",
        "Write a python program that takes an input from the user and finds the number of times that the input is present in a given tuple.\n",
        "\n",
        "===================================================================\n",
        "\n",
        "<b>Example 1: </b><br/>\n",
        "\n",
        "Given tuple: (10, 8, 5, 2, 10, 15, 10, 8, 5, 8, 8, 2) <br/>\n",
        "\n",
        "<b>Sample Input 1:</b> \n",
        "\n",
        "8<br/>\n",
        "\n",
        "<b>Sample Output 1: </b> <br/>\n",
        "\n",
        "8 appears 4 times in the tuple<br/>\n",
        "\n",
        "===================================================================\n",
        "\n",
        "<b> Example 2 </b><br/>\n",
        "\n",
        "Given tuple: (10, 8, 5, 2, 10, 15, 10, 8, 5, 8, 8, 2)<br/>\n",
        "\n",
        "<b>Sample Input 2:</b>\n",
        "\n",
        "1<br/>\n",
        "\n",
        "<b>Sample Output 2:</b><br/>\n",
        "\n",
        "1 appears 0 times in the tuple\n",
        "\n",
        "==================================================================="
      ]
    },
    {
      "cell_type": "code",
      "execution_count": null,
      "metadata": {
        "id": "mC-B1fpStDST",
        "outputId": "c1dc5f2a-d430-424f-fc93-38f988cd4469"
      },
      "outputs": [
        {
          "name": "stdout",
          "output_type": "stream",
          "text": [
            "Enter tuple elements:10, 8, 5, 2, 10, 15, 10, 8, 5, 8, 8, 2\n",
            "Enter a number:8\n",
            "Input tuple: (10, 8, 5, 2, 10, 15, 10, 8, 5, 8, 8, 2)\n",
            "8 appears 4 times in the tuple.\n"
          ]
        }
      ],
      "source": [
        "#to do\n",
        "#method-1\n",
        "\n",
        "user_tuple = [int(item)for item in input(\"Enter tuple elements:\").split(\",\")]\n",
        "num = int(input(\"Enter a number:\"))\n",
        "new_tuple = tuple(user_tuple)\n",
        "var_a = new_tuple.count(num) \n",
        "\n",
        "print(\"Input tuple:\",new_tuple)\n",
        "print(num,\"appears\",var_a,\"times in the tuple.\")\n",
        "\n"
      ]
    },
    {
      "cell_type": "code",
      "execution_count": null,
      "metadata": {
        "id": "2dcuG6GDZuFN",
        "outputId": "35c2b90c-7940-47ec-eab5-6a42f252dd4d"
      },
      "outputs": [
        {
          "name": "stdout",
          "output_type": "stream",
          "text": [
            "Enter tuple elements:10,8,5,2,10,15,10,8,5,8,8,2\n",
            "Enter a number:8\n",
            "Input tuple: (10, 8, 5, 2, 10, 15, 10, 8, 5, 8, 8, 2)\n",
            "8 appears 4 times in the tuple.\n"
          ]
        }
      ],
      "source": [
        "#method-2\n",
        "\n",
        "user_tuple = [int(item)for item in input(\"Enter tuple elements:\").split(\",\")]\n",
        "num = int(input(\"Enter a number:\"))\n",
        "var_a = 0\n",
        "\n",
        "for i in range(len(user_tuple)):\n",
        "    if num == user_tuple[i]:\n",
        "        var_a+=1\n",
        "    \n",
        "print(\"Input tuple:\",tuple(user_tuple))   \n",
        "print(num,\"appears\",var_a,\"times in the tuple.\")\n"
      ]
    },
    {
      "cell_type": "markdown",
      "metadata": {
        "id": "QWNi_JWr6AfC"
      },
      "source": [
        "### Task 6\n",
        "Write a Python program to reverse a given tuple. \n",
        "\n",
        " \n",
        "  <font color='red'>[You are not allowed to use tuple slicing]</font>\n",
        "  \n",
        "===================================================================\n",
        "\n",
        "<b>Note: </b>  Unlike lists, tuples are immutable. So, in order to reverse a tuple, we may need to convert it into a list first, then modify the list, and finally convert it back to a tuple. \n",
        "\n",
        "===================================================================\n",
        "\n",
        "<b>Example 1: </b><br/>\n",
        "\n",
        "Given tuple: ('a', 'b', 'c', 'd', 'e', 'f', 'g', 'h') <br/>\n",
        "\n",
        "<b> Output: </b> <br/>\n",
        "\n",
        "('h', 'g', 'f', 'e', 'd', 'c', 'b', 'a')<br/>\n",
        "\n",
        "\n",
        "===================================================================\n",
        "\n",
        "<b> Example 2: </b><br/>\n",
        "\n",
        "Given tuple: (10, 20, 30, 40, 50, 60)<br/>\n",
        "\n",
        "<b> Output: </b><br/>\n",
        "\n",
        "(60, 50, 40, 30, 20, 10)\n",
        "\n",
        "===================================================================\n"
      ]
    },
    {
      "cell_type": "code",
      "execution_count": null,
      "metadata": {
        "id": "CJrUcYAN6Bkx",
        "outputId": "3ba43387-7d69-4761-ac62-b4c650d789c8"
      },
      "outputs": [
        {
          "name": "stdout",
          "output_type": "stream",
          "text": [
            "Enter tuple elements:10, 20, 30, 40, 50, 60\n",
            "Given tuple: ('10', ' 20', ' 30', ' 40', ' 50', ' 60')\n",
            "Reversed tuple: (' 60', ' 50', ' 40', ' 30', ' 20', '10')\n"
          ]
        }
      ],
      "source": [
        "#to do\n",
        "#method-01\n",
        "user_tuple=(input(\"Enter tuple elements:\").split(\",\"))\n",
        "print(\"Given tuple:\",tuple(user_tuple))\n",
        "user_tuple.reverse()\n",
        "print(\"Reversed tuple:\",tuple(user_tuple))"
      ]
    },
    {
      "cell_type": "code",
      "execution_count": null,
      "metadata": {
        "id": "CecpKf7jZuFP",
        "outputId": "5cbc89f3-bddc-4199-9333-ca05737792d6"
      },
      "outputs": [
        {
          "name": "stdout",
          "output_type": "stream",
          "text": [
            "Given tuple: ('a', 'b', 'c', 'd', 'e', 'f', 'g', 'h')\n",
            "Reversed tuple: ('h', 'g', 'f', 'e', 'd', 'c', 'b', 'a')\n"
          ]
        }
      ],
      "source": [
        "#method-02\n",
        "user_tuple=('a', 'b', 'c', 'd', 'e', 'f', 'g', 'h') \n",
        "list1=[]\n",
        "for index in user_tuple:\n",
        "    list1.append(index)\n",
        "num=[]\n",
        "index=-1\n",
        "for i in range(len(list1)):\n",
        "    num.append(list1[index])\n",
        "    index=index-1\n",
        "    \n",
        "print(\"Given tuple:\",(user_tuple))\n",
        "print(\"Reversed tuple:\",tuple(num))"
      ]
    },
    {
      "cell_type": "markdown",
      "metadata": {
        "id": "km0QurTJtDSX"
      },
      "source": [
        "## Part 2: Dictionary"
      ]
    },
    {
      "cell_type": "markdown",
      "metadata": {
        "id": "kvV-HnCntDSc"
      },
      "source": [
        "### Task 7\n",
        "Suppose you are given two dictionaries.\\\n",
        "Now create a new dictionary \"marks\", merging the two dictionaries, **so that the original two dictionaries remain unchanged.**\n",
        "\n",
        "\n",
        "**Note:** You can use dictionary functions.\n",
        "\n",
        "===================================================================\n",
        "\n",
        "**Given:**\n",
        "\n",
        "{'Harry':15, 'Draco':8, 'Nevil':19}\n",
        "\n",
        "{'Ginie':18, 'Luna': 14}\n",
        "\n",
        "**Output:**\n",
        "\n",
        "{'Harry': 15, 'Draco': 8, 'Nevil': 19, 'Ginie': 18, 'Luna': 14}\n",
        "\n",
        "===================================================================\n",
        "\n",
        "**Given:**\n",
        "\n",
        "{'A':90, 'B': 0}\n",
        "\n",
        "{'C':50}\n",
        "\n",
        "**Output:**\n",
        "\n",
        "{'A': 90, 'B': 0, 'C': 50}\n",
        "\n",
        "===================================================================\n"
      ]
    },
    {
      "cell_type": "code",
      "execution_count": null,
      "metadata": {
        "id": "BGSyClBPtDSd",
        "outputId": "2a844965-4f0b-4a5e-e57e-c2db1befd2b3"
      },
      "outputs": [
        {
          "name": "stdout",
          "output_type": "stream",
          "text": [
            "Dictionary one: {'Harry': 15, 'Draco': 8, 'Nevil': 19}\n",
            "Dictionary two: {'Ginie': 18, 'Luna': 14}\n",
            "Merged dictionary: {'Harry': 15, 'Draco': 8, 'Nevil': 19, 'Ginie': 18, 'Luna': 14}\n"
          ]
        }
      ],
      "source": [
        "#to do\n",
        "\n",
        "dic_one = {'Harry':15, 'Draco':8, 'Nevil':19}\n",
        "dic_two = {'Ginie':18, 'Luna': 14}\n",
        "\n",
        "key1 = list(dic_one.keys())\n",
        "value1 = list(dic_one.values())\n",
        "key2 = list(dic_two.keys())\n",
        "value2 = list(dic_two.values())\n",
        "mainkey = key1+key2\n",
        "mainvalue = value1+value2\n",
        "num ={}\n",
        "\n",
        "for i in range(len(mainkey)):\n",
        "    num[mainkey[i]] = mainvalue[i]\n",
        "print(\"Dictionary one:\",dic_one)\n",
        "print(\"Dictionary two:\",dic_two)\n",
        "print(\"Merged dictionary:\",num)\n"
      ]
    },
    {
      "cell_type": "markdown",
      "metadata": {
        "id": "QRzP4HYStDSi"
      },
      "source": [
        "### Task 8\n",
        "Write a Python program that takes a dictionary as an input from the user and then prints the average of all the values in the dictionary.\n",
        "\n",
        " <font color='red'>[You are not allowed to use len() and sum()]</font>\n",
        "\n",
        "===================================================================\n",
        "\n",
        "**Hint (1): For taking dictionary input** \n",
        "\n",
        "Approach(1): For taking dictionary as an input from the user, you may take the whole dictionary as a string using the input() function. Then you can use the split(), strip() functions and conditions to get the keys and values from the string. Finally, you can make the dictionary using the obtained data.\n",
        "\n",
        "Approach(2): If the first approach seems too difficult you can create an empty dictionary and then just run a simple loop. For each iteration ask the user for a key and a value using the input() function and keep updating the dictionary with the key and value.\n",
        "\n",
        "\n",
        "**Hint (2):** After you have a dictionary, you can use dictionary functions to get all the values from it, run loop to calculate the sum and the total number of values in the dictionary in order to find out the average.\n",
        "\n",
        "===================================================================\n",
        "\n",
        "**Sample Input 1:**\n",
        "\n",
        "{'Jon': 100, 'Dan':200, 'Rob':300}\n",
        "\n",
        "**Sample Output 1:**\n",
        "\n",
        "Average is 200.\n",
        "\n",
        "===================================================================\n",
        "\n",
        "\n",
        "**Sample Input 2:**\n",
        "\n",
        "{'Jon': 100, 'Dan':200, 'Rob':30, 'Ned':110}\n",
        "\n",
        "**Sample Output 2:**\n",
        "\n",
        "Average is 110.\n",
        "\n",
        "===================================================================\n"
      ]
    },
    {
      "cell_type": "code",
      "execution_count": null,
      "metadata": {
        "id": "VMRLnA53tDSk",
        "outputId": "fe336857-470d-41a5-cb55-a7c38d3f5817"
      },
      "outputs": [
        {
          "name": "stdout",
          "output_type": "stream",
          "text": [
            "Enter 1st dictionary's length :3\n",
            "Enter key:jon\n",
            "Enter value:100\n",
            "Enter key:dan\n",
            "Enter value:200\n",
            "Enter key:dan\n",
            "Enter value:300\n",
            "Dictionary : {'jon': 100, 'dan': 300}\n",
            "Total average of the value: 200.0\n"
          ]
        }
      ],
      "source": [
        "#to do\n",
        "input1= int(input(\"Enter 1st dictionary's length :\"))\n",
        "\n",
        "dic_one= {}\n",
        "for i in range(input1):\n",
        "    key_name = input(\"Enter key:\") \n",
        "    value_name =int(input(\"Enter value:\"))\n",
        "    dic_one[key_name] = value_name\n",
        "value1=list(dic_one.values())\n",
        "num=0\n",
        "var1=0\n",
        "for index in value1:\n",
        "    num+=index\n",
        "    var1+=1\n",
        "print('Dictionary :',dic_one)\n",
        "print(\"Total average of the value:\",num/var1)"
      ]
    },
    {
      "cell_type": "markdown",
      "metadata": {
        "id": "le7fZ8XC9j_x"
      },
      "source": [
        "### Task 9\n",
        "Suppose there is a dictionary named exam_marks as given below.\n",
        "\n",
        "exam_marks = {'Cierra Vega': 175, 'Alden Cantrell': 200, 'Kierra Gentry': 165, 'Pierre Cox': 190}\n",
        "\n",
        "Write a Python program that takes an input from the user and creates a new dictionary with only those elements from 'exam_marks' whose keys have values higher than the user input (inclusive).\n",
        "\n",
        "===================================================================\n",
        "\n",
        "**Sample Input 1:**\n",
        "\n",
        "170\n",
        "\n",
        "**Sample Output 1:**\n",
        "\n",
        "{'Cierra Vega': 175, 'Alden Cantrell': 200, 'Pierre Cox': 190}\n",
        "\n",
        "===================================================================\n",
        "\n",
        "**Sample Input 2:**\n",
        "\n",
        "190\n",
        "\n",
        "**Sample Output 2:**\n",
        "\n",
        "{'Alden Cantrell': 200, 'Pierre Cox': 190}\n",
        "\n",
        "==================================================================="
      ]
    },
    {
      "cell_type": "code",
      "execution_count": null,
      "metadata": {
        "id": "qJWoUsLN9lBY",
        "outputId": "bea9cf35-f90f-4790-b892-6764dd44af3a"
      },
      "outputs": [
        {
          "name": "stdout",
          "output_type": "stream",
          "text": [
            "Enter value:190\n",
            "New dictionary: {'Alden Cantrell': 200, 'Pierre Cox': 190}\n"
          ]
        }
      ],
      "source": [
        "#to do\n",
        "num = int(input(\"Enter value:\"))\n",
        "new_dic={}\n",
        "exam_marks = {'Cierra Vega': 175, 'Alden Cantrell': 200, 'Kierra Gentry': 165, 'Pierre Cox': 190}\n",
        "\n",
        "for var1,var2 in exam_marks.items():\n",
        "    if  var2>=num:\n",
        "        new_dic[var1] = var2\n",
        "\n",
        "print(\"New dictionary:\",new_dic)\n"
      ]
    },
    {
      "cell_type": "markdown",
      "metadata": {
        "id": "IsqFQpqKtDSs"
      },
      "source": [
        "### Task 10\n",
        "Write a Python program that finds the largest value with its key from a given dictionary.  <font color='red'>[without using max() function]</font> \n",
        "\n",
        "**Note:** You do not need to take the dictionaries as an input from the user but your code should work for any given dictionary. Also, you need to handle the quotation marks as a part of the output.\n",
        "\n",
        "**Hint:** Think of membership operators (in and not in). You can use dictionary functions to get the values.\n",
        "\n",
        "===================================================================\n",
        "\n",
        "Sample 1:\n",
        "\n",
        "**Given:**\n",
        "\n",
        "{'sci fi': 12, 'mystery': 15, 'horror': 8, 'mythology': 10, 'young_adult': 4, 'adventure':14}\n",
        "\n",
        "**Output:**\n",
        "\n",
        "The highest selling book genre is 'mystery' and the number of books sold are 15.\n",
        "\n",
        "===================================================================\n",
        "\n",
        "Sample 2:\n",
        "\n",
        "**Given:**\n",
        "\n",
        "{'sci fi': 5, 'mystery': 3, 'horror': 14,\n",
        "             'young_adult': 2, 'adventure':9}\n",
        "\n",
        "**Output:**\n",
        "\n",
        "The highest selling book genre is  'horror'  and the number of books sold are 14.\n",
        "\n",
        "===================================================================\n"
      ]
    },
    {
      "cell_type": "code",
      "execution_count": null,
      "metadata": {
        "id": "v9Kosgs4tDSt",
        "outputId": "e96b1cb5-79fd-4df1-e2b4-780b25dc45b6"
      },
      "outputs": [
        {
          "name": "stdout",
          "output_type": "stream",
          "text": [
            "The highest selling book genre is ' mystery '  and the number of books sold are 15\n"
          ]
        }
      ],
      "source": [
        "#to do\n",
        "var_a = {'sci fi': 12, 'mystery': 15, 'horror': 8, 'mythology': 10, 'young_adult': 4, 'adventure':14}\n",
        "list1 = list(var_a.values())\n",
        "list2 = list(var_a.keys())\n",
        "largest = list1[0]\n",
        "position_largest = 0 \n",
        "\n",
        "for index in range((len(list1)-1)):    \n",
        "    if  (list1[index +1] > largest):\n",
        "        largest = list1[index +1]\n",
        "        position_largest = index +1\n",
        "print(\"The highest selling book genre is '\",list2[position_largest],\"'  and the number of books sold are\",largest)"
      ]
    },
    {
      "cell_type": "markdown",
      "metadata": {
        "id": "hAqjgwGNtDS2"
      },
      "source": [
        "### Task 11\n",
        "Write a Python program that takes a String as an input from the user and counts the frequency of each character using a dictionary. For solving this problem, you may use each character as a key and its frequency as values. <font color='red'>[You are not allowed to use the count() function]</font> \n",
        "\n",
        "**Hint:** You can create a new dictionary to store the frequencies. You may ignore case for simplicity (i.e. may consider P and p to be the same).\n",
        "\n",
        "\n",
        "===================================================================\n",
        "\n",
        "**Sample Input:**\\\n",
        "\"Python programming is fun\"\n",
        "\n",
        "**Sample Output:**\\\n",
        "{'p': 2, 'y': 1, 't': 1, 'h': 1, 'o': 2, 'n': 3, 'r': 2, 'g': 2, 'a': 1, 'm': 2, 'i': 2, 's': 1, 'f': 1, 'u': 1}\n",
        "\n",
        "===================================================================\n",
        "\n"
      ]
    },
    {
      "cell_type": "code",
      "execution_count": null,
      "metadata": {
        "id": "-m2yPIT7tDS3",
        "outputId": "8b42b209-f63c-448d-ee03-630181679f29"
      },
      "outputs": [
        {
          "name": "stdout",
          "output_type": "stream",
          "text": [
            "Enter a string:python programming is fun\n",
            "The frequency of each character: {'p': 2, 'y': 1, 't': 1, 'h': 1, 'o': 2, 'n': 3, 'r': 2, 'g': 2, 'a': 1, 'm': 2, 'i': 2, 's': 1, 'f': 1, 'u': 1}\n"
          ]
        }
      ],
      "source": [
        "#to do\n",
        "\n",
        "num1 = input(\"Enter a string:\").split()\n",
        "num=\"\"\n",
        "dic_one ={}\n",
        "for i in num1:\n",
        "    num+=i\n",
        "\n",
        "for index in range(len(num)):\n",
        "    if num[index] in dic_one.keys():\n",
        "        dic_one[num[index]]+= 1\n",
        "    else:\n",
        "        dic_one[num[index]] = 1\n",
        "\n",
        "print(\"The frequency of each character:\", dic_one)\n",
        "\n",
        "\n"
      ]
    },
    {
      "cell_type": "markdown",
      "metadata": {
        "id": "QWf1zsBctDS6"
      },
      "source": [
        "### Task 12\n",
        "Suppose you are given the following dictionary where the values are lists. \n",
        "\n",
        "dict = {'A': [1, 2, 3], 'b': ['1', '2'], \"c\": [4, 5, 6, 7]}\n",
        "\n",
        "Write a Python program that counts the total number of items in a dictionary’s values and prints it. <font color='red'>[without using sum(), len(), count() functions]</font> \n",
        "\n",
        "**Note:**  Make changes to the above dictionary and see if your code works properly for other dictionaries as well.\n",
        "\n",
        "===================================================================\n",
        "\n",
        "**Output:**\n",
        "\n",
        "9\n",
        "\n",
        "===================================================================\n",
        "\n"
      ]
    },
    {
      "cell_type": "code",
      "execution_count": null,
      "metadata": {
        "id": "atnD3A1utDS6",
        "outputId": "2288ea47-4a6b-4063-f142-3f8137908da9"
      },
      "outputs": [
        {
          "name": "stdout",
          "output_type": "stream",
          "text": [
            "The total number of items in a dictionary’s values: 9\n"
          ]
        }
      ],
      "source": [
        "#todo\n",
        "dicto = {'A': [1, 2, 3], 'b': ['1', '2'], \"c\": [4, 5, 6, 7]}\n",
        "var_b=0\n",
        "for num in dicto.values():\n",
        "    for i in num:\n",
        "        var_b+=1\n",
        "print(\"The total number of items in a dictionary’s values:\",var_b)"
      ]
    },
    {
      "cell_type": "markdown",
      "metadata": {
        "id": "-imuPb3EtDTD"
      },
      "source": [
        "### Task 13\n",
        "\n",
        "Suppose you have been given the following list of tuples. \n",
        "\n",
        "list = [(\"a\", 1), (\"b\", 2), (\"a\", 3), (\"b\", 1), (\"a\", 2), (\"c\", 1)]\n",
        "\n",
        "Write a Python program that converts this list of tuples into a dictionary and then prints the dictionary. <font color='red'>[You are not allowed to use set]</font> \n",
        "\n",
        "\n",
        "**Hint:** Think of membership operators (in and not in).\n",
        "\n",
        "===================================================================\n",
        "\n",
        "**Output:**\n",
        "\n",
        "{'a': [1, 3, 2], 'b': [2, 1], 'c': [1]}\n",
        "\n",
        " ===================================================================\n"
      ]
    },
    {
      "cell_type": "code",
      "execution_count": null,
      "metadata": {
        "id": "bBBcHpgYtDTE",
        "outputId": "36396012-b8ba-475d-f031-c0c41416c159"
      },
      "outputs": [
        {
          "name": "stdout",
          "output_type": "stream",
          "text": [
            "Dictionary: {'a': [1, 3, 2], 'b': [2, 1], 'c': [1]}\n"
          ]
        }
      ],
      "source": [
        "#todo\n",
        "\n",
        "list1 = [(\"a\", 1), (\"b\", 2), (\"a\", 3), (\"b\", 1), (\"a\", 2), (\"c\", 1)]\n",
        "dict1 = {}\n",
        "for index in list1:\n",
        "    num = index\n",
        "    key=num[0]\n",
        "    value=(num[1])\n",
        "    if key in dict1:\n",
        "        if type(dict1[key])==int:\n",
        "            dict1[key] = [dict1[key]]\n",
        "            dict1[key].append(value)\n",
        "        else:\n",
        "            dict1[key].append(value)\n",
        "    else:\n",
        "        dict1[key] = [value]\n",
        "print(\"Dictionary:\",dict1)\n"
      ]
    },
    {
      "cell_type": "markdown",
      "metadata": {
        "id": "UrxbFOWk5ASO"
      },
      "source": [
        "## Optional Tasks (14-18) [Ungraded]"
      ]
    },
    {
      "cell_type": "markdown",
      "metadata": {
        "id": "vtQRbX994-Se"
      },
      "source": [
        "### Task 14\n",
        "\n",
        "Given a list of tuples, your task is to multiply the elements of the tuple and return a list of multiplied elements as shown below.\n",
        "\n",
        "===================================================================\n",
        "\n",
        "**Example 1:**\n",
        "\n",
        "Given: \n",
        "\n",
        "[(2, 3), (4, 5), (6, 7), (2, 8)]\n",
        "\n",
        "**Output:**\n",
        "\n",
        "[6, 20, 42, 16]\n",
        "\n",
        "===================================================================\n",
        "\n",
        "**Example 2:**\n",
        "\n",
        "Given:\n",
        "\n",
        " [(11, 22), (33, 55), (55, 77), (11, 44)]\n",
        "\n",
        "**Output:**\n",
        "\n",
        "[242, 1815, 4235, 484]\n",
        "\n",
        "==================================================================="
      ]
    },
    {
      "cell_type": "code",
      "execution_count": null,
      "metadata": {
        "id": "xy-E_k6y5maj",
        "outputId": "ae2bdced-dcd1-4e39-ae5a-391709062fad"
      },
      "outputs": [
        {
          "name": "stdout",
          "output_type": "stream",
          "text": [
            "list of multiplied elements: [242, 1815, 4235, 484]\n"
          ]
        }
      ],
      "source": [
        "#to do\n",
        "list1 = [(11, 22), (33, 55), (55, 77), (11, 44)]\n",
        "list2 = []\n",
        "\n",
        "for index in list1:\n",
        "    num = index\n",
        "    num1=num[0]\n",
        "    num2=(num[1])\n",
        "    var_a=num1*num2\n",
        "    list2.append(var_a)\n",
        "\n",
        "print(\"list of multiplied elements:\",list2)"
      ]
    },
    {
      "cell_type": "markdown",
      "metadata": {
        "id": "jZQHbegc-QBA"
      },
      "source": [
        "### Task 15\n",
        "\n",
        "Assume, you have been given a tuple as below.\n",
        "\n",
        "a_tuple = ( [1, 2, 3], [4, 5, 6], [7, 8, 9], [10, 11, 12])\n",
        "\n",
        "Write a Python program that asks the user for an input (can be any data type) and **replaces the last element of each of the inner lists with the user given value.**\n",
        "\n",
        "===================================================================\n",
        "\n",
        "**Sample Input 1:**\n",
        "\n",
        "abc\n",
        "\n",
        "**Sample Output 1:** \n",
        "\n",
        "([1, 2, 'abc'], [4, 5, 'abc'], [7, 8, 'abc'], [10, 11, 'abc'])\n",
        "\n",
        "===================================================================\n",
        "\n",
        "**Sample Input 1:**\n",
        "\n",
        "1000\n",
        "\n",
        "**Sample Output 1:** \n",
        "\n",
        "([1, 2, '1000'], [4, 5, '1000'], [7, 8, '1000'], [10, 11, '1000'])\n",
        "\n",
        "==================================================================="
      ]
    },
    {
      "cell_type": "code",
      "execution_count": null,
      "metadata": {
        "id": "SjdnEjCz5op1",
        "outputId": "78d21646-6829-4afa-ed0e-54ca7ea37bf4"
      },
      "outputs": [
        {
          "name": "stdout",
          "output_type": "stream",
          "text": [
            "Enter a string:abc\n",
            "New tuple: ([1, 2, 'abc'], [4, 5, 'abc'], [7, 8, 'abc'], [10, 11, 'abc'])\n"
          ]
        }
      ],
      "source": [
        "#todo\n",
        "#method-1\n",
        "a_tuple = ( [1, 2, 3], [4, 5, 6], [7, 8, 9], [10, 11, 12])\n",
        "num = input(\"Enter a string:\")\n",
        "\n",
        "for coun in range(len(a_tuple)):\n",
        "    a_tuple[coun][-1] = num\n",
        "\n",
        "    \n",
        "print(\"New tuple:\",a_tuple)\n"
      ]
    },
    {
      "cell_type": "code",
      "execution_count": null,
      "metadata": {
        "id": "4_7XSdAtZuFZ",
        "outputId": "baf33805-c904-4050-8764-3e7f222e6674"
      },
      "outputs": [
        {
          "name": "stdout",
          "output_type": "stream",
          "text": [
            "Enter a string: 1000\n",
            "New tuple: ([1, 2, '1000'], [4, 5, '1000'], [7, 8, '1000'], [10, 11, '1000'])\n"
          ]
        }
      ],
      "source": [
        "#method-2\n",
        "a_tuple = ( [1, 2, 3], [4, 5, 6], [7, 8, 9], [10, 11, 12])\n",
        "num = input(\"Enter a string: \")\n",
        "\n",
        "for coun in range(len(a_tuple)):\n",
        "    a_tuple[coun].pop()\n",
        "    a_tuple[coun].append(num)\n",
        "    \n",
        "    \n",
        "print(\"New tuple:\",a_tuple)"
      ]
    },
    {
      "cell_type": "markdown",
      "metadata": {
        "id": "dVZrZ8Od6WwM"
      },
      "source": [
        "### Task 16\n",
        "\n",
        "Suppose there is a dictionary named my_dictionary.\n",
        "\n",
        "my_dictionary = {'c1':'Red', 'c2':'Green', 'c3':None, 'd4':'Blue', 'a5':None}.\n",
        "\n",
        "Now write a Python program to remove empty items from the dictionary. [Empty items means keys without any values (None)].\n",
        "\n",
        "===================================================================\n",
        "\n",
        "**Output:**\n",
        "\n",
        "{'c1':'Red', 'c2':'Green', 'd4':'Blue'}\n",
        "\n",
        "==================================================================="
      ]
    },
    {
      "cell_type": "code",
      "execution_count": null,
      "metadata": {
        "id": "cK9Nh7-F6YUE",
        "outputId": "0ea28210-6315-47ed-d086-5a20a7797bc4"
      },
      "outputs": [
        {
          "name": "stdout",
          "output_type": "stream",
          "text": [
            "Dictionary without empty value:  {'c1': 'Red', 'c2': 'Green', 'd4': 'Blue'}\n"
          ]
        }
      ],
      "source": [
        "#to do\n",
        "mydic = {'c1':'Red', 'c2':'Green', 'c3':None, 'd4':'Blue', 'a5':None}\n",
        "dic2  = {}\n",
        "\n",
        "for item in mydic.items():\n",
        "    key,value = item\n",
        "    if value!= None:\n",
        "        dic2[key] = value\n",
        "        \n",
        "print(\"Dictionary without empty value: \",dic2)\n",
        "        "
      ]
    },
    {
      "cell_type": "markdown",
      "metadata": {
        "id": "_W2bOMJn62xF"
      },
      "source": [
        "### Task 17\n",
        "\n",
        "Suppose you are given a dictionary as shown below. Write a Python program that takes two inputs from the user representing the lower (inclusive) and upper (exclusive) of a range of values. Your task is to extract all the items from the dictionary whose values lie in the range given as input by the user.\n",
        "\n",
        "dictionary = {'a' : 6, 'b' : 7, 'c' : 9, 'd' : 8, 'e' : 11, 'f' : 12, 'g' : 13}\n",
        "\n",
        "===================================================================\n",
        "\n",
        "**Sample Input 1:**\n",
        "\n",
        "9, 12\n",
        "\n",
        "**Sample Output 1:**\n",
        "\n",
        "{'c': 9, 'e': 11}\n",
        "\n",
        "**Explanation:**  Keys with values within the range of 9 and 11 are extracted.\n",
        "\n",
        "===================================================================\n",
        "\n",
        "**Sample Input 2:** \n",
        "\n",
        "14, 18\n",
        "\n",
        "**Sample Output 2 :**\n",
        "\n",
        "{}\n",
        "\n",
        "**Explanation:**  No values in range.\n",
        "\n",
        "==================================================================="
      ]
    },
    {
      "cell_type": "code",
      "execution_count": null,
      "metadata": {
        "id": "MLh9VlLD633D",
        "outputId": "18602d2d-5e04-4f3f-a33c-3b90d755214d"
      },
      "outputs": [
        {
          "name": "stdout",
          "output_type": "stream",
          "text": [
            "Enter tuple elements:9,12\n",
            "New dictionary {'c': 9, 'f': 12}\n"
          ]
        }
      ],
      "source": [
        "#to do\n",
        "dictionary = {'a' : 6, 'b' : 7, 'c' : 9, 'd' : 8, 'e' : 11, 'f' : 12, 'g' : 13}\n",
        "num=[]\n",
        "newdic={}\n",
        "num=[int(item)for item in input(\"Enter tuple elements:\").split(\",\")]\n",
        "list1=list(dictionary.values())\n",
        "list2=list(dictionary.keys())\n",
        "\n",
        "for i in range(len(list1)):\n",
        "    if list1[i]==num[0] or list1[i]==num[1]:\n",
        "        newdic[list2[i]] = list1[i]\n",
        "        \n",
        "print(\"New dictionary\",newdic)"
      ]
    },
    {
      "cell_type": "code",
      "execution_count": null,
      "metadata": {
        "id": "gmSHk3IMZuFb",
        "outputId": "1a8e6d61-c5e3-4ffe-8611-70a44e6499a3"
      },
      "outputs": [
        {
          "name": "stdout",
          "output_type": "stream",
          "text": [
            "Enter tuple elements:9,12\n",
            "New dictionary {'c': 9, 'f': 12}\n"
          ]
        }
      ],
      "source": [
        "dictionary = {'a' : 6, 'b' : 7, 'c' : 9, 'd' : 8, 'e' : 11, 'f' : 12, 'g' : 13}\n",
        "num=[]\n",
        "newdic={}\n",
        "num=[int(item)for item in input(\"Enter tuple elements:\").split(\",\")]\n",
        "list1=list(dictionary.values())\n",
        "list2=list(dictionary.keys())\n",
        "\n",
        "for i,j in dictionary.items():\n",
        "    if j==num[0] or j==num[1]:\n",
        "        newdic[i] = j\n",
        "        \n",
        "print(\"New dictionary\",newdic)"
      ]
    },
    {
      "cell_type": "markdown",
      "metadata": {
        "id": "zC94TVcD7LqM"
      },
      "source": [
        "### Task 18\n",
        "\n",
        "Given a list of tuples, your task is to group the tuples based on the **second** element in the tuples as shown in the examples below. We can achieve this using **dictionary** by checking the second element in each tuple.\n",
        "\n",
        "[You do not need to take tuple as input and can assume that it is given as below]\n",
        "\n",
        "===================================================================\n",
        "\n",
        "**Example 1:**\n",
        "\n",
        "Given:\n",
        "\n",
        "[(20, 80), (31, 80), (1, 22), (88, 11), (27, 11)]\n",
        "\n",
        "**Output:**\n",
        "\n",
        "{80: [(20, 80), (31, 80)],\\\n",
        "         11: [(88, 11), (27, 11)],\\\n",
        "         22: [(1, 22)]}\n",
        "       \n",
        "===================================================================\n",
        "\n",
        "**Example 2:**\n",
        "\n",
        "Given:\n",
        "\n",
        "[(20, 'Sad'), (31, 'Sad'), (88, 'NotSad'), (27, 'NotSad')]\n",
        "\n",
        "**Output:**\n",
        "\n",
        "{'NotSad': [(88, 'NotSad'), (27, 'NotSad')],\\\n",
        "         'Sad: [(20, 'Sad'), (31, 'Sad')]}\n",
        "\n",
        "==================================================================="
      ]
    },
    {
      "cell_type": "code",
      "execution_count": null,
      "metadata": {
        "id": "zAunp7oZ7H-l",
        "outputId": "1ed02164-e271-442e-dd9e-af26c53c9eab"
      },
      "outputs": [
        {
          "name": "stdout",
          "output_type": "stream",
          "text": [
            "Dictionary:  {'Sad': [(20, 'Sad'), (31, 'Sad')], 'NotSad': [(88, 'NotSad'), (27, 'NotSad')]}\n"
          ]
        }
      ],
      "source": [
        "#todo\n",
        "dict1 = [(20, 'Sad'), (31, 'Sad'), (88, 'NotSad'), (27, 'NotSad')]\n",
        "dict2 = {}\n",
        "\n",
        "for item in dict1:\n",
        "    key,value = item\n",
        "    if value in dict2.keys():\n",
        "        dict2[value].append(item)\n",
        "    else:\n",
        "        dict2[value] = [item]\n",
        "        \n",
        "print(\"Dictionary: \",dict2)"
      ]
    },
    {
      "cell_type": "code",
      "execution_count": null,
      "metadata": {
        "id": "Wo-lnY7QZuFc"
      },
      "outputs": [],
      "source": [
        ""
      ]
    }
  ],
  "metadata": {
    "colab": {
      "collapsed_sections": [],
      "name": "CSE110 Lab Assignment 5.ipynb",
      "provenance": []
    },
    "kernelspec": {
      "display_name": "Python 3",
      "language": "python",
      "name": "python3"
    },
    "language_info": {
      "codemirror_mode": {
        "name": "ipython",
        "version": 3
      },
      "file_extension": ".py",
      "mimetype": "text/x-python",
      "name": "python",
      "nbconvert_exporter": "python",
      "pygments_lexer": "ipython3",
      "version": "3.8.5"
    }
  },
  "nbformat": 4,
  "nbformat_minor": 0
}