{
 "cells": [
  {
   "cell_type": "markdown",
   "metadata": {
    "id": "2UVYzd8eTdtR"
   },
   "source": [
    "Task-1 Write a function which will return the fraction part after dividing a number by\n",
    "another. The range should be within 0 and 1. Exception: Since dividing anything by\n",
    "0 results in error so if the denominator is 0, the function will return 0 instead of\n",
    "attempting the division."
   ]
  },
  {
   "cell_type": "code",
   "execution_count": 1,
   "metadata": {
    "colab": {
     "base_uri": "https://localhost:8080/"
    },
    "id": "iRj9W4dB7JMR",
    "outputId": "ec1d3e40-85f8-4f41-f2c0-05c7a6cd4de6"
   },
   "outputs": [
    {
     "name": "stdout",
     "output_type": "stream",
     "text": [
      "Enter the nominator: 0\n",
      "Enter the denominator: 5\n",
      "0\n"
     ]
    }
   ],
   "source": [
    "def func(num,num2):\n",
    "  if num2==0 or num==0:\n",
    "    print(0)\n",
    "  else:\n",
    "    var1=(num/num2)-(num//num2)\n",
    "    var2='{:.1f}'.format(var1)\n",
    "    print(var2)\n",
    "num=int(input(\"Enter the nominator: \"))\n",
    "num2=int(input(\"Enter the denominator: \"))\n",
    "func(num,num2)"
   ]
  },
  {
   "cell_type": "code",
   "execution_count": 2,
   "metadata": {
    "colab": {
     "base_uri": "https://localhost:8080/"
    },
    "id": "VkkAbGoZK4K8",
    "outputId": "bf66511e-5302-4dc1-a31a-924e65b5f14b"
   },
   "outputs": [
    {
     "name": "stdout",
     "output_type": "stream",
     "text": [
      "Enter the nominator: 5\n",
      "Enter the denominator: 0\n",
      "0\n"
     ]
    }
   ],
   "source": [
    "def func(num,num2):\n",
    "  try:\n",
    "    var1=(num/num2)-(num//num2)\n",
    "    var2='{:.1f}'.format(var1)\n",
    "    print(var2)\n",
    "  except:\n",
    "    print(0)\n",
    "num=int(input(\"Enter the nominator: \"))\n",
    "num2=int(input(\"Enter the denominator: \"))\n",
    "func(num,num2)"
   ]
  },
  {
   "cell_type": "markdown",
   "metadata": {
    "id": "0LDvFFks-Ymi"
   },
   "source": [
    "task-2 You are one of the gym instructors at AmiKenoMota. You decide to provide a\n",
    "customized diet and exercise plans based on the BMI of an individual. You measure\n",
    "the weight in kilograms and height in meters and calculate the BMI before a plan\n",
    "can be decided. Write a BMI function that takes in two values, weight in kg and\n",
    "height in cm and print the score along with the condition. (Make sure to convert cm\n",
    "into m before calculation)\n",
    "BMI(height, weight)\n",
    "\n",
    "BMI = kg/m2\n",
    "Based on the BMI score return the following output.\n",
    "\n",
    "● < 18.5- Underweight\n",
    "● 18.5 - 24.9 - Normal\n",
    "● 25 -30 - Overweight\n",
    "● > 30 – Obese"
   ]
  },
  {
   "cell_type": "code",
   "execution_count": 3,
   "metadata": {
    "colab": {
     "base_uri": "https://localhost:8080/"
    },
    "id": "7OWmnK-E-WN9",
    "outputId": "b79349dc-db24-4784-8b48-99de251fa7d2"
   },
   "outputs": [
    {
     "name": "stdout",
     "output_type": "stream",
     "text": [
      "Enter height in cm:175\n",
      "Enter weight in kg:96\n",
      "The score is: 31.3 . You are obese.\n"
     ]
    }
   ],
   "source": [
    "def func_bmi(num1,num2):\n",
    "  bmi=num2/(num1/100)**2\n",
    "  frmt_bmi='{:.1f}'.format(bmi)\n",
    "  if bmi < 18.5:\n",
    "    print(\"The score is:\",frmt_bmi,\". You are underweight.\")\n",
    "  elif 18.5<=bmi<=24.9:\n",
    "    print(\"The score is:\",frmt_bmi,\". You are Normal.\")\n",
    "  elif 25<=bmi<=30:\n",
    "    print(\"The score is:\",frmt_bmi,\". You are Overweight.\")\n",
    "  elif bmi>30:\n",
    "    print(\"The score is:\",frmt_bmi,\". You are obese.\")\n",
    "num1=(int(input(\"Enter height in cm:\")))\n",
    "num2=(int(input(\"Enter weight in kg:\")))\n",
    "func_bmi(num1,num2)"
   ]
  },
  {
   "cell_type": "markdown",
   "metadata": {
    "id": "ahtWjZMJLiQX"
   },
   "source": [
    "Task-3 Write a function which will take 3 arguments minimum, maximum and divisor.\n",
    "You have to find all the numbers that are divisible by the divisor where minimum\n",
    "value is inclusive and maximum value is exclusive. Add all the numbers and return\n",
    "the value.\n"
   ]
  },
  {
   "cell_type": "code",
   "execution_count": 1,
   "metadata": {
    "colab": {
     "base_uri": "https://localhost:8080/"
    },
    "id": "rzN3eEvrLixW",
    "outputId": "630be5b3-42d0-4e34-fbef-3059d66d737a"
   },
   "outputs": [
    {
     "name": "stdout",
     "output_type": "stream",
     "text": [
      "Enter minimum: 0\n",
      "Enter maximum: 10\n",
      "Enter divisor: 2\n"
     ]
    },
    {
     "data": {
      "text/plain": [
       "20"
      ]
     },
     "execution_count": 1,
     "metadata": {},
     "output_type": "execute_result"
    }
   ],
   "source": [
    "def func(num1,num2,num3):\n",
    "  add=0\n",
    "  if num3==0:\n",
    "    print(0)\n",
    "  else:\n",
    "    for i in range(num1,num2):\n",
    "      if i%num3==0:\n",
    "        add+=i\n",
    "  return add\n",
    "num1=int(input(\"Enter minimum: \"))\n",
    "num2=int(input(\"Enter maximum: \"))\n",
    "num3=int(input(\"Enter divisor: \"))\n",
    "#func(3,16,3)\n",
    "func(num1,num2,num3)\n"
   ]
  },
  {
   "cell_type": "markdown",
   "metadata": {
    "id": "PR7xKke7Lc-8"
   },
   "source": [
    "Task-4You want to order Burger from Chillox through the FoodPanda App. You have to\n",
    "calculate the total price. Write a function which will take the name of the burger and\n",
    "place(Mohakhali/Outside of Mohakhali) as input. Use default argument technique\n",
    "for taking place input.\n",
    "\n",
    "Menu Price(Tk)\n",
    "BBQ Chicken Cheese Burger 250\n",
    "Beef Burger 170\n",
    "Naga Drums 200\n",
    "Hint: Total Price = meal_cost + delivery_charge + tax\n",
    "Note that:\n",
    "\n",
    "● If your home is in Mohakhali area then your delivery charge is 40 taka\n",
    "else 60 taka\n",
    "● Your tax rate is 8% of your meal."
   ]
  },
  {
   "cell_type": "code",
   "execution_count": 5,
   "metadata": {
    "colab": {
     "base_uri": "https://localhost:8080/"
    },
    "id": "PdKgftQlPJ-s",
    "outputId": "170935ce-2e9c-4760-ea96-ceaeab22ee47"
   },
   "outputs": [
    {
     "name": "stdout",
     "output_type": "stream",
     "text": [
      "Enter items:beef burger\n",
      "Enter a place:dhanmondi\n",
      "243.6\n"
     ]
    }
   ],
   "source": [
    "def amount(num1,num2):\n",
    "  dict1={\"BBQ CHICKEN CHEESE BURGER\":250,\"BEEF BURGER\":170,\"NAGA DRUMS\":200}\n",
    "  itemchk=num1.upper()\n",
    "  #print(itemchk)\n",
    "  pay=0\n",
    "  for x,y in dict1.items():\n",
    "    if itemchk==x:\n",
    "      pay+=y\n",
    "      pay+=y*.08\n",
    "  if (num2==\"MOHAKHALI\" or num2==\"\"):\n",
    "    pay+=40 \n",
    "  else:\n",
    "    pay+=60\n",
    "  print(pay)\n",
    "  \n",
    "num1=input(\"Enter items:\")\n",
    "num2=input(\"Enter a place:\").upper()\n",
    "amount(num1,num2)\n"
   ]
  },
  {
   "cell_type": "markdown",
   "metadata": {
    "id": "NLVkUMkKLbn5"
   },
   "source": [
    "Task-5 A company named Sheba.xyz has recently moved from their old domain to a new\n",
    "domain. However, a lot of the company email addresses are still using the old one.\n",
    "Write a function in python that replaces this old domain with the new one in any\n",
    "outdated email addresses. Keep same if the email address contains the new domain.\n",
    "(Do not use builtin replace function)\n",
    "Firstly, define a “replace_domain” function which accepts three parameters\n",
    "*The email address to be checked\n",
    "*The new domain\n",
    "* The old domain (Use Default argument technique to handle this)"
   ]
  },
  {
   "cell_type": "code",
   "execution_count": 6,
   "metadata": {
    "colab": {
     "base_uri": "https://localhost:8080/"
    },
    "id": "Gd7YGmlaLtM_",
    "outputId": "be4f22fb-ab37-48bf-ffe9-724e433b02bd"
   },
   "outputs": [
    {
     "name": "stdout",
     "output_type": "stream",
     "text": [
      "Email,new domain,old domain: hjghjf@sheba.xyz,sheba.xyz\n",
      "unchanged: hjghjf@sheba.xyz\n"
     ]
    }
   ],
   "source": [
    "def domchange(num1,num2,num3=\"kaaj.com\"):\n",
    "  var1=num1.split(\"@\")\n",
    "  if var1[-1]==num3:\n",
    "    print(\"Changed:\",var1[0],\"@\",num1)\n",
    "  else:\n",
    "    print(\"unchanged:\",num1)\n",
    "    \n",
    "inputuser=input('Email,new domain,old domain: ').split(',')\n",
    "\n",
    "if len(inputuser)==3:\n",
    "    domchange(inputuser[0],inputuser[1],inputuser[2])\n",
    "elif len(inputuser)==2:\n",
    "    domchange(inputuser[0],inputuser[1])\n",
    "#hjghjf@sheba.xyz,sheba.xyz"
   ]
  },
  {
   "cell_type": "markdown",
   "metadata": {
    "id": "98BTzii1LvWf"
   },
   "source": [
    "Task-6. Write a function which takes only your full name as input and finds the total\n",
    "number of vowels in that input. Output every vowel and at the end output the total\n",
    "number of vowelsfound. If your name does not contain any vowel then yourfunction\n",
    "should print “No vowels in the name!”."
   ]
  },
  {
   "cell_type": "code",
   "execution_count": 7,
   "metadata": {
    "id": "BbTVwzs_LqQc"
   },
   "outputs": [
    {
     "name": "stdout",
     "output_type": "stream",
     "text": [
      "Enter:steve jobs\n",
      "Vowels:e,e,o.Total number of vowels: 3\n"
     ]
    }
   ],
   "source": [
    "def func_vowel(num):\n",
    "  vowels=['a','e','i','o','u']\n",
    "  num2=num.lower()\n",
    "  newvwl=\"\"\n",
    "  for i in range(len(num)):\n",
    "    if num2[i] in vowels:\n",
    "      newvwl+=num[i]\n",
    "  if len(newvwl)==0:\n",
    "    print(\"No vowels in the name.\")\n",
    "  else:\n",
    "    print(\"Vowels:\",end=\"\")\n",
    "    for i in range(len(newvwl)):\n",
    "      if i==(len(newvwl)-1):\n",
    "        print(newvwl[i],end=\".\")\n",
    "      else:\n",
    "        print(newvwl[i],end=\",\")\n",
    "    print(\"Total number of vowels:\",len(newvwl))\n",
    "num=input(\"Enter:\")\n",
    "func_vowel(num)"
   ]
  },
  {
   "cell_type": "markdown",
   "metadata": {
    "id": "CL6SRS96LzuL"
   },
   "source": [
    "Task-7 Write a program which checks whether a given string is a palindrome or not. Note:\n",
    "A palindrome is a word, phrase, or sequence that reads the same backward as\n",
    "forward. For palindrome, any spaces in middle are not considered and should be\n",
    "trimmed."
   ]
  },
  {
   "cell_type": "code",
   "execution_count": 10,
   "metadata": {
    "colab": {
     "base_uri": "https://localhost:8080/"
    },
    "id": "0LAHua9IL2PY",
    "outputId": "575ed2e8-8304-402a-e09d-78ba2b12abe6"
   },
   "outputs": [
    {
     "name": "stdout",
     "output_type": "stream",
     "text": [
      "Enter:nurses run\n",
      "Palindrome\n"
     ]
    }
   ],
   "source": [
    "def palindrome(num):\n",
    "  newstr=''\n",
    "\n",
    "  for i in num:\n",
    "    if i!=\" \":\n",
    "      newstr+=i\n",
    "\n",
    "  ind=-1\n",
    "  check=\"\"\n",
    "  for i in range(len(newstr)):\n",
    "    check+=newstr[ind]\n",
    "    ind-=1\n",
    "\n",
    "  if (newstr==check):\n",
    "    print(\"Palindrome\")\n",
    "  else:\n",
    "    print(\"Not a palindrome\")\n",
    "\n",
    "inpt=input(\"Enter:\")\n",
    "palindrome(inpt)"
   ]
  },
  {
   "cell_type": "markdown",
   "metadata": {
    "id": "v_gMdRpBL2xz"
   },
   "source": [
    "Task-8 Write a function which takes a number of days as input and prints total number of\n",
    "years, number of months and remaining number of days as output."
   ]
  },
  {
   "cell_type": "code",
   "execution_count": 11,
   "metadata": {},
   "outputs": [
    {
     "name": "stdout",
     "output_type": "stream",
     "text": [
      "Enter:4320\n",
      "11 years 10 months 5 days\n"
     ]
    }
   ],
   "source": [
    "def func(num):\n",
    "  year = num//365\n",
    "  month = (num%365)//30\n",
    "  day= (num%365)%30\n",
    "  print(year,\"years\",month,\"months\",day,\"days\")\n",
    "  \n",
    "num=int(input(\"Enter:\"))\n",
    "func(num)"
   ]
  },
  {
   "cell_type": "markdown",
   "metadata": {
    "id": "Svan36ywL8vm"
   },
   "source": [
    "Task-9 You are a class teacher at a kindergarten school. As a task, you asked your\n",
    "students to write a paragraph. Unfortunately, you notice that most of the students\n",
    "did not use capital letters correctly. Your task is to write a function which takes a\n",
    "string as its only parameter and returns a new copy of the string that has been\n",
    "correctly capitalized. Your function should:\n",
    "● Capitalize the first letter in the string\n",
    "● Capitalize the first letter after a full-stop, exclamation mark or question mark\n",
    "● Capitalize the word “i” if it is in lowercase.\n",
    "Summary: You have to write a function that reads a string from the user and\n",
    "capitalizes. The string is then returned and displayed."
   ]
  },
  {
   "cell_type": "code",
   "execution_count": 13,
   "metadata": {
    "colab": {
     "base_uri": "https://localhost:8080/",
     "height": 54
    },
    "id": "sgTjea-BL-zW",
    "outputId": "a2b403e1-4513-43d2-8a46-79d2c0575aa4"
   },
   "outputs": [
    {
     "name": "stdout",
     "output_type": "stream",
     "text": [
      "Enter:my favourite animal is a dog. a dog has sharp teeth so that it can eat flesh very easily.do you know my pet dog’s name? i love my pet very much.\n",
      "My favourite animal is a dog. A dog has sharp teeth so that it can eat flesh very easily.Do you know my pet dog’s name? I Love my pet very much.\n"
     ]
    }
   ],
   "source": [
    "def func(num):\n",
    "  sign = ['.','?','!']\n",
    "  newstr=num[0].upper()\n",
    "  var1=False\n",
    "  for i in range(1,len(num)):\n",
    "    if num[i] in sign :\n",
    "      var1=True\n",
    "      newstr+=num[i]\n",
    "    elif num[i]==\"i\" and i!=len(num)-1:\n",
    "        if num[i+1]==\" \" and num[i-1]==\" \":\n",
    "            newstr+=num[i].upper()\n",
    "        else:\n",
    "            newstr+=num[i]\n",
    "    else:\n",
    "      if var1:\n",
    "        if num[i]==\" \":\n",
    "          newstr+=num[i].upper()\n",
    "          var1=True\n",
    "        else:\n",
    "          newstr+=num[i].upper()\n",
    "          var1=False\n",
    "      else:\n",
    "        newstr+=num[i]\n",
    "  return newstr\n",
    "\n",
    "num=input(\"Enter:\")\n",
    "print(func(num))\n",
    "#favourite animal is a dog. a dog has sharp teeth so that it can eat flesh very easily.\n",
    "#num='my favourite animal is a dog. a dog has sharp teeth so that it can eat flesh very easily.do you know my pet dog’s name? i love my pet very much.'\n",
    "#func(num)\n",
    "\n",
    "\n"
   ]
  },
  {
   "cell_type": "code",
   "execution_count": null,
   "metadata": {},
   "outputs": [],
   "source": []
  }
 ],
 "metadata": {
  "colab": {
   "collapsed_sections": [],
   "name": "assignment2.ipynb",
   "provenance": []
  },
  "kernelspec": {
   "display_name": "Python 3",
   "language": "python",
   "name": "python3"
  },
  "language_info": {
   "codemirror_mode": {
    "name": "ipython",
    "version": 3
   },
   "file_extension": ".py",
   "mimetype": "text/x-python",
   "name": "python",
   "nbconvert_exporter": "python",
   "pygments_lexer": "ipython3",
   "version": "3.8.5"
  }
 },
 "nbformat": 4,
 "nbformat_minor": 1
}
