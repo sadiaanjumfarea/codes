{
  "nbformat": 4,
  "nbformat_minor": 0,
  "metadata": {
    "colab": {
      "name": "assignment7_21101030_sadia_anjum_farea.ipynb",
      "provenance": [],
      "collapsed_sections": []
    },
    "kernelspec": {
      "name": "python3",
      "display_name": "Python 3"
    },
    "language_info": {
      "name": "python"
    }
  },
  "cells": [
    {
      "cell_type": "code",
      "metadata": {
        "id": "hggbVRD6DU96",
        "colab": {
          "base_uri": "https://localhost:8080/"
        },
        "outputId": "3b24d406-e54d-49cf-9b8f-56a09810630a"
      },
      "source": [
        "#Task-01\n",
        "class Student:\n",
        "  def __init__(self, name='Just a student', dept='nothing'):\n",
        "    self.__name = name\n",
        "    self.__department = dept\n",
        "  def set_department(self, dept):\n",
        "    self.__department = dept\n",
        "  def get_name(self):\n",
        "    return self.__name\n",
        "  def set_name(self,name):\n",
        "    self.__name = name\n",
        "  def __str__(self):\n",
        "    return 'Name: '+self.__name+' Department: '+self.__department\n",
        "    \n",
        "class BBA_Student(Student):\n",
        "  def __init__(self,name='default', dept='BBA'):\n",
        "    super().__init__(name,dept)\n",
        "\n",
        "print(BBA_Student())\n",
        "print(BBA_Student('Humpty Dumpty'))\n",
        "print(BBA_Student('Little Bo Peep'))"
      ],
      "execution_count": null,
      "outputs": [
        {
          "output_type": "stream",
          "text": [
            "Name: default Department: BBA\n",
            "Name: Humpty Dumpty Department: BBA\n",
            "Name: Little Bo Peep Department: BBA\n"
          ],
          "name": "stdout"
        }
      ]
    },
    {
      "cell_type": "code",
      "metadata": {
        "id": "-Qua0KZrLPDl",
        "colab": {
          "base_uri": "https://localhost:8080/"
        },
        "outputId": "e66b7ef3-23d5-4fff-f5fb-5350bf2f4c6d"
      },
      "source": [
        "#task-2\n",
        "class Vehicle:\n",
        "  def __init__(self):\n",
        "    self.x = 0\n",
        "    self.y = 0\n",
        "  def moveUp(self):\n",
        "    self.y+=1\n",
        "  def moveDown(self):\n",
        "    self.y-=1\n",
        "  def moveRight(self):\n",
        "    self.x+=1\n",
        "  def moveLeft(self):\n",
        "    self.x-=1\n",
        "  def __str__(self):\n",
        "    return '('+str(self.x)+' , '+str(self.y)+')'\n",
        "#write your code here\n",
        "class Vehicle2010(Vehicle):\n",
        "  def equals(self,obj):\n",
        "    if self.x==obj.x and self.y==obj.y:\n",
        "      return True\n",
        "    else:\n",
        "      return False\n",
        "\n",
        "  def moveLowerLeft(self):\n",
        "    self.moveDown()\n",
        "    self.moveLeft()\n",
        "  def moveLowerRight(self):\n",
        "    self.moveDown()\n",
        "    self.moveRight()\n",
        "  def moveUpperLeft(self):\n",
        "    self.moveUp()\n",
        "    self.moveLeft()\n",
        "  def moveUpperRight(self):\n",
        "    self.moveUp()\n",
        "    self.moveRight()\n",
        "\n",
        "    \n",
        "print('Part 1')\n",
        "print('------')\n",
        "car = Vehicle()\n",
        "print(car)\n",
        "car.moveUp()\n",
        "print(car)\n",
        "car.moveLeft()\n",
        "print(car)\n",
        "car.moveDown()\n",
        "print(car)\n",
        "car.moveRight()\n",
        "print(car)\n",
        "print('------')\n",
        "print('Part 2')\n",
        "print('------')\n",
        "car1 = Vehicle2010()\n",
        "print(car1)\n",
        "car1.moveLowerLeft()\n",
        "print(car1)\n",
        "car2 = Vehicle2010()\n",
        "car2.moveLeft()\n",
        "print(car1.equals(car2))\n",
        "car2.moveDown()\n",
        "print(car1.equals(car2))"
      ],
      "execution_count": 25,
      "outputs": [
        {
          "output_type": "stream",
          "text": [
            "Part 1\n",
            "------\n",
            "(0 , 0)\n",
            "(0 , 1)\n",
            "(-1 , 1)\n",
            "(-1 , 0)\n",
            "(0 , 0)\n",
            "------\n",
            "Part 2\n",
            "------\n",
            "(0 , 0)\n",
            "(-1 , -1)\n",
            "False\n",
            "True\n"
          ],
          "name": "stdout"
        }
      ]
    },
    {
      "cell_type": "code",
      "metadata": {
        "colab": {
          "base_uri": "https://localhost:8080/"
        },
        "id": "bRqbEOEZMaeh",
        "outputId": "b4b9653d-5ee8-4513-8d08-232c29412b8f"
      },
      "source": [
        "#task-3\n",
        "\n",
        "class Tournament:\n",
        "  def __init__(self,name='Default'):\n",
        "    self.__name = name\n",
        "  def set_name(self,name):\n",
        "    self.__name = name\n",
        "  def get_name(self):\n",
        "    return self.__name\n",
        "#write your code here\n",
        "\n",
        "class Cricket_Tournament(Tournament):\n",
        "  def __init__(self,name='Default',team=0,typ='No type'):\n",
        "    super().__init__(name)\n",
        "    self.team=team\n",
        "    self.typ=typ\n",
        "  def detail(self):\n",
        "    return f'Cricket Torunament Name: {super().get_name()}\\nNumber of Teams: {self.team}\\nType: {self.typ}'\n",
        "\n",
        "class Tennis_Tournament(Tournament):\n",
        "  def __init__(self,name,play='0'):\n",
        "    super().__init__(name) \n",
        "    self.play=play\n",
        "  def detail(self):\n",
        "    return f'Tennis Tournament Name: {super().get_name()}\\nNumber of Players: {self.play}'\n",
        "\n",
        "\n",
        "ct1 = Cricket_Tournament()\n",
        "print(ct1.detail())\n",
        "print(\"-----------------------\")\n",
        "ct2 = Cricket_Tournament(\"IPL\",10,\"t20\")\n",
        "print(ct2.detail())\n",
        "print(\"-----------------------\")\n",
        "tt = Tennis_Tournament(\"Roland Garros\",128)\n",
        "print(tt.detail())"
      ],
      "execution_count": null,
      "outputs": [
        {
          "output_type": "stream",
          "text": [
            "Cricket Torunament Name: Default\n",
            "Number of Teams: 0\n",
            "Type: No type\n",
            "-----------------------\n",
            "Cricket Torunament Name: IPL\n",
            "Number of Teams: 10\n",
            "Type: t20\n",
            "-----------------------\n",
            "Tennis Tournament Name: Roland Garros\n",
            "Number of Players: 128\n"
          ],
          "name": "stdout"
        }
      ]
    },
    {
      "cell_type": "code",
      "metadata": {
        "colab": {
          "base_uri": "https://localhost:8080/"
        },
        "id": "RClyfgvkMa4A",
        "outputId": "f0a3c133-00b9-4377-8d49-faf65dbc617d"
      },
      "source": [
        "#task-4\n",
        "class Product:\n",
        "  def __init__(self,id, title, price):\n",
        "    self.__id = id\n",
        "    self. __title = title\n",
        "    self. __price = price\n",
        "  def get_id_title_price(self):\n",
        "    return \"ID: \"+str(self.__id)+\" Title:\"+self.__title+\"Price: \"+str(self.__price)\n",
        "\n",
        "#write your code here\n",
        "class Book(Product):\n",
        "  def __init__(self,id,title,price,isb,pubs):\n",
        "    super().__init__(id,\" \"+title+\" \",price)\n",
        "    self.isb=isb\n",
        "    self.pubs=pubs\n",
        "  def printDetail(self):\n",
        "    print(super().get_id_title_price()) \n",
        "    return f'ISBN: {self.isb} Publisher: {self.pubs}'\n",
        "\n",
        "class CD(Product):\n",
        "  def __init__(self,id,title,price,band,dur,gen):\n",
        "    super().__init__(id,\" \"+title+\" \",price)\n",
        "    self.band=band\n",
        "    self.dur=dur\n",
        "    self.gen=gen\n",
        "  def printDetail(self):\n",
        "    print(super().get_id_title_price())\n",
        "    return f'Band: {self.band} Duration: {self.dur}minutes \\nGenere: {self.gen} '\n",
        "\n",
        "book = Book(1,\"The Alchemist\",500,\"97806\",\"HarperCollins\")\n",
        "print(book.printDetail())\n",
        "print(\"-----------------------\")\n",
        "cd = CD(2,\"Shotto\",300,\"Warfaze\",50,\"Hard Rock\")\n",
        "print(cd.printDetail())"
      ],
      "execution_count": 22,
      "outputs": [
        {
          "output_type": "stream",
          "text": [
            "ID: 1 Title: The Alchemist Price: 500\n",
            "ISBN: 97806 Publisher: HarperCollins\n",
            "-----------------------\n",
            "ID: 2 Title: Shotto Price: 300\n",
            "Band: Warfaze Duration: 50minutes \n",
            "Genere: Hard Rock \n"
          ],
          "name": "stdout"
        }
      ]
    },
    {
      "cell_type": "code",
      "metadata": {
        "colab": {
          "base_uri": "https://localhost:8080/"
        },
        "id": "MedCMFlLhcxP",
        "outputId": "73030a9d-e27a-4199-d24a-5ff1a2f13ab9"
      },
      "source": [
        "#task-5\n",
        "class Animal:\n",
        "  def __init__(self,sound):\n",
        "    self.__sound = sound\n",
        "  def makeSound(self):\n",
        "    return self.__sound\n",
        "\n",
        "class Printer:\n",
        "  def printSound(self, a):\n",
        "    print(a.makeSound())\n",
        "\n",
        "#write your code here\n",
        "class Dog(Animal):\n",
        "  def __init__(self,x):\n",
        "    super().__init__(x)\n",
        "\n",
        "class Cat(Animal):\n",
        "  def __init__(self,var1):\n",
        "    super().__init__(var1)\n",
        "\n",
        "\n",
        "d1 = Dog('bark')\n",
        "c1 = Cat('meow')\n",
        "a1 = Animal('Animal does not make sound')\n",
        "pr = Printer()\n",
        "pr.printSound(a1)\n",
        "pr.printSound(c1)\n",
        "pr.printSound(d1)\n",
        "\n"
      ],
      "execution_count": null,
      "outputs": [
        {
          "output_type": "stream",
          "text": [
            "Animal does not make sound\n",
            "meow\n",
            "bark\n"
          ],
          "name": "stdout"
        }
      ]
    },
    {
      "cell_type": "code",
      "metadata": {
        "colab": {
          "base_uri": "https://localhost:8080/"
        },
        "id": "YCI8ZA1migFa",
        "outputId": "c016b6a6-53e6-48fb-a877-ce1cd21622cd"
      },
      "source": [
        "#task-6\n",
        "\n",
        "class Shape:\n",
        "  def __init__(self, name='Default', height=0, base=0):\n",
        "    self.area = 0\n",
        "    self.name = name\n",
        "    self.height = height\n",
        "    self.base = base\n",
        "  def get_height_base(self):\n",
        "    return \"Height: \"+str(self.height)+\", Base: \"+str(self.base)\n",
        "#write your code here\n",
        "class triangle(Shape):\n",
        "  def __init__(self,name='Default',height=0,base=0):\n",
        "    super().__init__(name,height,base)\n",
        "        \n",
        "  def calcArea(self):\n",
        "    self.khetro=(1/2)*self.base*self.height\n",
        "        \n",
        "  def printDetail(self):\n",
        "    return f'Shape name: {self.name}'+'\\n'+super().get_height_base()+f'\\nArea: {self.khetro}'\n",
        "        \n",
        "class trapezoid(Shape):\n",
        "  def __init__(self,name='Default',height=0,base=0,a=0):\n",
        "    super().__init__(name,height,base)\n",
        "    self.a=a\n",
        "  def calcArea(self): \n",
        "    self.khetro=((self.a+self.base)/2)*self.height\n",
        "  def printDetail(self):\n",
        "    return f'Shape name: {self.name}'+'\\n'+super().get_height_base()+f', Side_A: {self.a}'+f'\\nArea: {self.khetro}'  \n",
        "\n",
        "\n",
        "\n",
        "tri_default = triangle()\n",
        "tri_default.calcArea()\n",
        "print(tri_default.printDetail())\n",
        "print('--------------------------')\n",
        "tri = triangle('Triangle', 10, 5)\n",
        "tri.calcArea()\n",
        "print(tri.printDetail())\n",
        "print('---------------------------')\n",
        "trap = trapezoid('Trapezoid', 10, 6, 4)\n",
        "trap.calcArea()\n",
        "print(trap.printDetail())"
      ],
      "execution_count": null,
      "outputs": [
        {
          "output_type": "stream",
          "text": [
            "Shape name: Default\n",
            "Height: 0, Base: 0\n",
            "Area: 0.0\n",
            "--------------------------\n",
            "Shape name: Triangle\n",
            "Height: 10, Base: 5\n",
            "Area: 25.0\n",
            "---------------------------\n",
            "Shape name: Trapezoid\n",
            "Height: 10, Base: 6, Side_A: 4\n",
            "Area: 50.0\n"
          ],
          "name": "stdout"
        }
      ]
    },
    {
      "cell_type": "code",
      "metadata": {
        "id": "N5AeeJ8kjZD6",
        "colab": {
          "base_uri": "https://localhost:8080/"
        },
        "outputId": "cfe1e45b-ccee-46ab-89ea-3c22015def44"
      },
      "source": [
        "#task-7\n",
        "#earning\n",
        "class Football:\n",
        "  def __init__(self, team_name, name, role):\n",
        "    self.__team = team_name\n",
        "    self.__name = name\n",
        "    self.role = role\n",
        "    self.earning_per_match = 0\n",
        "  def get_name_team(self):\n",
        "    return 'Name: '+self.__name+', Team Name: ' +self.__team\n",
        "#write your code here\n",
        "class Player(Football):\n",
        "  def __init__(self,team_name,name,role,g,tp):\n",
        "    super().__init__(team_name,name,role)\n",
        "    self.g=g\n",
        "    self.tp=tp\n",
        "  def calculate_ratio(self):\n",
        "    self.rat=self.g/self.tp\n",
        "  def print_details(self):\n",
        "    self.earning_per_match=(self.g*1000)+(self.tp*10)\n",
        "    print(super().get_name_team(),'\\nTeam Role:',self.role,'\\nTotal Goal:',str(self.g)+',','Total Played:',self.tp,'\\nGoal Ratio:',self.rat,'\\nMatch Earning:',str(self.earning_per_match)+'K')\n",
        "\n",
        "class Manager(Football):\n",
        "  def __init__(self,team_name,name,role,t):\n",
        "    super().__init__(team_name,name,role)\n",
        "    self.tw=t\n",
        "  def print_details(self):\n",
        "    self.earning_per_match=self.tw*1000\n",
        "    print(super().get_name_team(),'\\nTeam Role:',self.role,'\\nTotal Win:',self.tw,'\\nMatch Earning:',str(self.earning_per_match)+'K')\n",
        "    \n",
        "player_one = Player('Juventus', 'Ronaldo', 'Striker', 25, 32)\n",
        "player_one.calculate_ratio()\n",
        "player_one.print_details()\n",
        "print('------------------------------------------')\n",
        "manager_one = Manager('Real Madrid', 'Zidane', 'Manager', 25)\n",
        "manager_one.print_details()"
      ],
      "execution_count": 23,
      "outputs": [
        {
          "output_type": "stream",
          "text": [
            "Name: Ronaldo, Team Name: Juventus \n",
            "Team Role: Striker \n",
            "Total Goal: 25, Total Played: 32 \n",
            "Goal Ratio: 0.78125 \n",
            "Match Earning: 25320K\n",
            "------------------------------------------\n",
            "Name: Zidane, Team Name: Real Madrid \n",
            "Team Role: Manager \n",
            "Total Win: 25 \n",
            "Match Earning: 25000K\n"
          ],
          "name": "stdout"
        }
      ]
    }
  ]
}